{
 "cells": [
  {
   "cell_type": "code",
   "execution_count": 1,
   "metadata": {},
   "outputs": [],
   "source": [
    "import pandas as pd\n",
    "import matplotlib.pyplot as plt\n",
    "import geopandas as gpd"
   ]
  },
  {
   "cell_type": "code",
   "execution_count": 2,
   "metadata": {},
   "outputs": [],
   "source": [
    "file = pd.read_csv('events.csv',low_memory=False)"
   ]
  },
  {
   "cell_type": "code",
   "execution_count": 3,
   "metadata": {},
   "outputs": [
    {
     "name": "stdout",
     "output_type": "stream",
     "text": [
      "<class 'pandas.core.frame.DataFrame'>\n",
      "RangeIndex: 1011288 entries, 0 to 1011287\n",
      "Data columns (total 23 columns):\n",
      "timestamp                   1011288 non-null object\n",
      "event                       1011288 non-null object\n",
      "person                      1011288 non-null object\n",
      "url                         82756 non-null object\n",
      "sku                         563838 non-null object\n",
      "model                       564284 non-null object\n",
      "condition                   563836 non-null object\n",
      "storage                     563836 non-null object\n",
      "color                       563836 non-null object\n",
      "skus                        221699 non-null object\n",
      "search_term                 48967 non-null object\n",
      "staticpage                  3598 non-null object\n",
      "campaign_source             82796 non-null object\n",
      "search_engine               50957 non-null object\n",
      "channel                     87378 non-null object\n",
      "new_vs_returning            87378 non-null object\n",
      "city                        87378 non-null object\n",
      "region                      87378 non-null object\n",
      "country                     87378 non-null object\n",
      "device_type                 87378 non-null object\n",
      "screen_resolution           87378 non-null object\n",
      "operating_system_version    87378 non-null object\n",
      "browser_version             87378 non-null object\n",
      "dtypes: object(23)\n",
      "memory usage: 177.5+ MB\n"
     ]
    }
   ],
   "source": [
    "file.info()"
   ]
  },
  {
   "cell_type": "code",
   "execution_count": 4,
   "metadata": {},
   "outputs": [],
   "source": [
    "compras = file.loc[file.event=='conversion']"
   ]
  },
  {
   "cell_type": "code",
   "execution_count": 5,
   "metadata": {},
   "outputs": [],
   "source": [
    "visited = file.loc[file.event=='visited site'].loc[file['region']!='Unknown']"
   ]
  },
  {
   "cell_type": "code",
   "execution_count": 6,
   "metadata": {},
   "outputs": [],
   "source": [
    "group = visited.groupby('person')"
   ]
  },
  {
   "cell_type": "code",
   "execution_count": 7,
   "metadata": {},
   "outputs": [],
   "source": [
    "def region(x):\n",
    "    return x['region'].unique()[0]\n",
    "\n",
    "regiones = group.apply(region)"
   ]
  },
  {
   "cell_type": "code",
   "execution_count": 8,
   "metadata": {},
   "outputs": [],
   "source": [
    "regiones = regiones.reset_index()"
   ]
  },
  {
   "cell_type": "code",
   "execution_count": 9,
   "metadata": {},
   "outputs": [],
   "source": [
    "regiones['compro'] = regiones['person'].isin(compras['person'])"
   ]
  },
  {
   "cell_type": "code",
   "execution_count": 10,
   "metadata": {},
   "outputs": [
    {
     "data": {
      "text/html": [
       "<div>\n",
       "<style scoped>\n",
       "    .dataframe tbody tr th:only-of-type {\n",
       "        vertical-align: middle;\n",
       "    }\n",
       "\n",
       "    .dataframe tbody tr th {\n",
       "        vertical-align: top;\n",
       "    }\n",
       "\n",
       "    .dataframe thead th {\n",
       "        text-align: right;\n",
       "    }\n",
       "</style>\n",
       "<table border=\"1\" class=\"dataframe\">\n",
       "  <thead>\n",
       "    <tr style=\"text-align: right;\">\n",
       "      <th></th>\n",
       "      <th>person</th>\n",
       "      <th>0</th>\n",
       "      <th>compro</th>\n",
       "    </tr>\n",
       "  </thead>\n",
       "  <tbody>\n",
       "    <tr>\n",
       "      <th>0</th>\n",
       "      <td>0004b0a2</td>\n",
       "      <td>Pernambuco</td>\n",
       "      <td>False</td>\n",
       "    </tr>\n",
       "    <tr>\n",
       "      <th>1</th>\n",
       "      <td>0006a21a</td>\n",
       "      <td>Rio de Janeiro</td>\n",
       "      <td>False</td>\n",
       "    </tr>\n",
       "    <tr>\n",
       "      <th>2</th>\n",
       "      <td>000a54b2</td>\n",
       "      <td>Rio de Janeiro</td>\n",
       "      <td>False</td>\n",
       "    </tr>\n",
       "  </tbody>\n",
       "</table>\n",
       "</div>"
      ],
      "text/plain": [
       "     person               0  compro\n",
       "0  0004b0a2      Pernambuco   False\n",
       "1  0006a21a  Rio de Janeiro   False\n",
       "2  000a54b2  Rio de Janeiro   False"
      ]
     },
     "execution_count": 10,
     "metadata": {},
     "output_type": "execute_result"
    }
   ],
   "source": [
    "regiones.head(3)"
   ]
  },
  {
   "cell_type": "code",
   "execution_count": 11,
   "metadata": {},
   "outputs": [],
   "source": [
    "regiones.columns=['person','region','compro']"
   ]
  },
  {
   "cell_type": "code",
   "execution_count": 12,
   "metadata": {},
   "outputs": [
    {
     "data": {
      "text/plain": [
       "Sao Paulo                           7860\n",
       "Minas Gerais                        2315\n",
       "Rio de Janeiro                      2299\n",
       "Bahia                               1747\n",
       "Ceara                                882\n",
       "Parana                               882\n",
       "Pernambuco                           872\n",
       "Rio Grande do Sul                    846\n",
       "Santa Catarina                       577\n",
       "Federal District                     533\n",
       "Goias                                486\n",
       "Maranhao                             447\n",
       "Para                                 423\n",
       "Espirito Santo                       411\n",
       "Rio Grande do Norte                  357\n",
       "Paraíba                              278\n",
       "Amazonas                             254\n",
       "Piaui                                250\n",
       "Alagoas                              226\n",
       "Mato Grosso do Sul                   181\n",
       "Mato Grosso                          178\n",
       "California                           156\n",
       "Sergipe                              155\n",
       "Tocantins                            145\n",
       "Rondonia                              99\n",
       "New York                              94\n",
       "Amapa                                 41\n",
       "Acre                                  35\n",
       "Buenos Aires F.D.                     11\n",
       "Roraima                                9\n",
       "                                    ... \n",
       "Istanbul                               1\n",
       "Iowa                                   1\n",
       "Basel-City                             1\n",
       "Inner Mongolia Autonomous Region       1\n",
       "Paris                                  1\n",
       "Gauteng                                1\n",
       "Wrexham                                1\n",
       "Łódź Voivodeship                       1\n",
       "Setúbal                                1\n",
       "Washington                             1\n",
       "Western Province                       1\n",
       "Essonne                                1\n",
       "Departamento de Montevideo             1\n",
       "Vila Real                              1\n",
       "Missouri                               1\n",
       "Cordoba                                1\n",
       "Moscow                                 1\n",
       "Colorado                               1\n",
       "Vaslui                                 1\n",
       "Santa Fe                               1\n",
       "Mendoza                                1\n",
       "Monagas                                1\n",
       "Judetul Bacau                          1\n",
       "Kenitra Province                       1\n",
       "Mexico City                            1\n",
       "Dhaka                                  1\n",
       "Milan                                  1\n",
       "Asuncion                               1\n",
       "Castelo Branco                         1\n",
       "Loiret                                 1\n",
       "Name: region, Length: 86, dtype: int64"
      ]
     },
     "execution_count": 12,
     "metadata": {},
     "output_type": "execute_result"
    }
   ],
   "source": [
    "regiones['region'].value_counts()"
   ]
  },
  {
   "cell_type": "code",
   "execution_count": 13,
   "metadata": {},
   "outputs": [],
   "source": [
    "compras_map = regiones.groupby('region').agg({'compro':'sum'})"
   ]
  },
  {
   "cell_type": "code",
   "execution_count": 14,
   "metadata": {},
   "outputs": [
    {
     "data": {
      "text/html": [
       "<div>\n",
       "<style scoped>\n",
       "    .dataframe tbody tr th:only-of-type {\n",
       "        vertical-align: middle;\n",
       "    }\n",
       "\n",
       "    .dataframe tbody tr th {\n",
       "        vertical-align: top;\n",
       "    }\n",
       "\n",
       "    .dataframe thead th {\n",
       "        text-align: right;\n",
       "    }\n",
       "</style>\n",
       "<table border=\"1\" class=\"dataframe\">\n",
       "  <thead>\n",
       "    <tr style=\"text-align: right;\">\n",
       "      <th></th>\n",
       "      <th>compro</th>\n",
       "    </tr>\n",
       "    <tr>\n",
       "      <th>region</th>\n",
       "      <th></th>\n",
       "    </tr>\n",
       "  </thead>\n",
       "  <tbody>\n",
       "    <tr>\n",
       "      <th>Sao Paulo</th>\n",
       "      <td>200.0</td>\n",
       "    </tr>\n",
       "    <tr>\n",
       "      <th>Minas Gerais</th>\n",
       "      <td>73.0</td>\n",
       "    </tr>\n",
       "    <tr>\n",
       "      <th>Rio de Janeiro</th>\n",
       "      <td>53.0</td>\n",
       "    </tr>\n",
       "  </tbody>\n",
       "</table>\n",
       "</div>"
      ],
      "text/plain": [
       "                compro\n",
       "region                \n",
       "Sao Paulo        200.0\n",
       "Minas Gerais      73.0\n",
       "Rio de Janeiro    53.0"
      ]
     },
     "execution_count": 14,
     "metadata": {},
     "output_type": "execute_result"
    }
   ],
   "source": [
    "compras_map.sort_values('compro',ascending=False).head(3)"
   ]
  },
  {
   "cell_type": "code",
   "execution_count": 18,
   "metadata": {},
   "outputs": [],
   "source": [
    "brazil = gpd.read_file('maps/gadm36_BRA_1.shp')"
   ]
  },
  {
   "cell_type": "code",
   "execution_count": 19,
   "metadata": {},
   "outputs": [
    {
     "data": {
      "text/html": [
       "<div>\n",
       "<style scoped>\n",
       "    .dataframe tbody tr th:only-of-type {\n",
       "        vertical-align: middle;\n",
       "    }\n",
       "\n",
       "    .dataframe tbody tr th {\n",
       "        vertical-align: top;\n",
       "    }\n",
       "\n",
       "    .dataframe thead th {\n",
       "        text-align: right;\n",
       "    }\n",
       "</style>\n",
       "<table border=\"1\" class=\"dataframe\">\n",
       "  <thead>\n",
       "    <tr style=\"text-align: right;\">\n",
       "      <th></th>\n",
       "      <th>GID_0</th>\n",
       "      <th>NAME_0</th>\n",
       "      <th>GID_1</th>\n",
       "      <th>NAME_1</th>\n",
       "      <th>VARNAME_1</th>\n",
       "      <th>NL_NAME_1</th>\n",
       "      <th>TYPE_1</th>\n",
       "      <th>ENGTYPE_1</th>\n",
       "      <th>CC_1</th>\n",
       "      <th>HASC_1</th>\n",
       "      <th>geometry</th>\n",
       "    </tr>\n",
       "  </thead>\n",
       "  <tbody>\n",
       "    <tr>\n",
       "      <th>0</th>\n",
       "      <td>BRA</td>\n",
       "      <td>Brazil</td>\n",
       "      <td>BRA.1_1</td>\n",
       "      <td>Acre</td>\n",
       "      <td>None</td>\n",
       "      <td>None</td>\n",
       "      <td>Estado</td>\n",
       "      <td>State</td>\n",
       "      <td>None</td>\n",
       "      <td>BR.AC</td>\n",
       "      <td>POLYGON ((-68.10552979000001 -10.72191715, -68...</td>\n",
       "    </tr>\n",
       "    <tr>\n",
       "      <th>1</th>\n",
       "      <td>BRA</td>\n",
       "      <td>Brazil</td>\n",
       "      <td>BRA.2_1</td>\n",
       "      <td>Alagoas</td>\n",
       "      <td>None</td>\n",
       "      <td>None</td>\n",
       "      <td>Estado</td>\n",
       "      <td>State</td>\n",
       "      <td>None</td>\n",
       "      <td>BR.AL</td>\n",
       "      <td>(POLYGON ((-35.88986206 -9.844305990000001, -3...</td>\n",
       "    </tr>\n",
       "    <tr>\n",
       "      <th>2</th>\n",
       "      <td>BRA</td>\n",
       "      <td>Brazil</td>\n",
       "      <td>BRA.3_1</td>\n",
       "      <td>Amapá</td>\n",
       "      <td>None</td>\n",
       "      <td>None</td>\n",
       "      <td>Estado</td>\n",
       "      <td>State</td>\n",
       "      <td>None</td>\n",
       "      <td>BR.AP</td>\n",
       "      <td>(POLYGON ((-50.82569504 2.522084, -50.82569504...</td>\n",
       "    </tr>\n",
       "    <tr>\n",
       "      <th>3</th>\n",
       "      <td>BRA</td>\n",
       "      <td>Brazil</td>\n",
       "      <td>BRA.4_1</td>\n",
       "      <td>Amazonas</td>\n",
       "      <td>Amazone</td>\n",
       "      <td>None</td>\n",
       "      <td>Estado</td>\n",
       "      <td>State</td>\n",
       "      <td>None</td>\n",
       "      <td>BR.AM</td>\n",
       "      <td>POLYGON ((-58.13698959 -7.35613918, -58.136821...</td>\n",
       "    </tr>\n",
       "    <tr>\n",
       "      <th>4</th>\n",
       "      <td>BRA</td>\n",
       "      <td>Brazil</td>\n",
       "      <td>BRA.5_1</td>\n",
       "      <td>Bahia</td>\n",
       "      <td>Ba¡a</td>\n",
       "      <td>None</td>\n",
       "      <td>Estado</td>\n",
       "      <td>State</td>\n",
       "      <td>None</td>\n",
       "      <td>BR.BA</td>\n",
       "      <td>(POLYGON ((-38.69208145 -17.95958328, -38.6920...</td>\n",
       "    </tr>\n",
       "  </tbody>\n",
       "</table>\n",
       "</div>"
      ],
      "text/plain": [
       "  GID_0  NAME_0    GID_1    NAME_1 VARNAME_1 NL_NAME_1  TYPE_1 ENGTYPE_1  \\\n",
       "0   BRA  Brazil  BRA.1_1      Acre      None      None  Estado     State   \n",
       "1   BRA  Brazil  BRA.2_1   Alagoas      None      None  Estado     State   \n",
       "2   BRA  Brazil  BRA.3_1     Amapá      None      None  Estado     State   \n",
       "3   BRA  Brazil  BRA.4_1  Amazonas   Amazone      None  Estado     State   \n",
       "4   BRA  Brazil  BRA.5_1     Bahia      Ba¡a      None  Estado     State   \n",
       "\n",
       "   CC_1 HASC_1                                           geometry  \n",
       "0  None  BR.AC  POLYGON ((-68.10552979000001 -10.72191715, -68...  \n",
       "1  None  BR.AL  (POLYGON ((-35.88986206 -9.844305990000001, -3...  \n",
       "2  None  BR.AP  (POLYGON ((-50.82569504 2.522084, -50.82569504...  \n",
       "3  None  BR.AM  POLYGON ((-58.13698959 -7.35613918, -58.136821...  \n",
       "4  None  BR.BA  (POLYGON ((-38.69208145 -17.95958328, -38.6920...  "
      ]
     },
     "execution_count": 19,
     "metadata": {},
     "output_type": "execute_result"
    }
   ],
   "source": [
    "brazil.head()"
   ]
  },
  {
   "cell_type": "code",
   "execution_count": 20,
   "metadata": {},
   "outputs": [],
   "source": [
    "brazil = brazil.set_index('NAME_1')"
   ]
  },
  {
   "cell_type": "code",
   "execution_count": 21,
   "metadata": {},
   "outputs": [
    {
     "data": {
      "text/plain": [
       "Index(['Acre', 'Alagoas', 'Amapá', 'Amazonas', 'Bahia', 'Ceará',\n",
       "       'Distrito Federal', 'Espírito Santo', 'Goiás', 'Maranhão',\n",
       "       'Mato Grosso', 'Mato Grosso do Sul', 'Minas Gerais', 'Pará', 'Paraíba',\n",
       "       'Paraná', 'Pernambuco', 'Piauí', 'Rio de Janeiro',\n",
       "       'Rio Grande do Norte', 'Rio Grande do Sul', 'Rondônia', 'Roraima',\n",
       "       'Santa Catarina', 'São Paulo', 'Sergipe', 'Tocantins'],\n",
       "      dtype='object', name='NAME_1')"
      ]
     },
     "execution_count": 21,
     "metadata": {},
     "output_type": "execute_result"
    }
   ],
   "source": [
    "brazil.index"
   ]
  },
  {
   "cell_type": "code",
   "execution_count": 22,
   "metadata": {},
   "outputs": [],
   "source": [
    "brazil.index = ['Acre', 'Alagoas', 'Amapa', 'Amazonas', 'Bahia', 'Ceara',\n",
    "       'Federal District', 'Espirito Santo', 'Goias', 'Maranhao',\n",
    "       'Mato Grosso', 'Mato Grosso do Sul', 'Minas Gerais', 'Para', 'Paraíba',\n",
    "       'Parana', 'Pernambuco', 'Piaui', 'Rio de Janeiro',\n",
    "       'Rio Grande do Norte', 'Rio Grande do Sul', 'Rondonia', 'Roraima',\n",
    "       'Santa Catarina', 'Sao Paulo', 'Sergipe', 'Tocantins']"
   ]
  },
  {
   "cell_type": "code",
   "execution_count": 23,
   "metadata": {},
   "outputs": [],
   "source": [
    "brazil['compras'] = compras_map"
   ]
  },
  {
   "cell_type": "code",
   "execution_count": 34,
   "metadata": {},
   "outputs": [
    {
     "data": {
      "image/png": "[encoded data removed]",
      "text/plain": [
       "<Figure size 1080x648 with 2 Axes>"
      ]
     },
     "metadata": {},
     "output_type": "display_data"
    }
   ],
   "source": [
    "fig, ax = plt.subplots(1, figsize=(15, 9))\n",
    "ax.axis('off')\n",
    "plt.title('Compras segun region de la primer visita al sitio de la persona\\n',size=24)\n",
    "sm = plt.cm.ScalarMappable(cmap='YlOrRd', norm=plt.Normalize(vmin=0, vmax=200))\n",
    "sm._A = []\n",
    "cbar = fig.colorbar(sm)\n",
    "g = brazil.plot(column='compras',cmap='YlOrRd',ax=ax)"
   ]
  },
  {
   "cell_type": "code",
   "execution_count": null,
   "metadata": {},
   "outputs": [],
   "source": []
  }
 ],
 "metadata": {
  "kernelspec": {
   "display_name": "Python 3",
   "language": "python",
   "name": "python3"
  },
  "language_info": {
   "codemirror_mode": {
    "name": "ipython",
    "version": 3
   },
   "file_extension": ".py",
   "mimetype": "text/x-python",
   "name": "python",
   "nbconvert_exporter": "python",
   "pygments_lexer": "ipython3",
   "version": "3.6.5"
  }
 },
 "nbformat": 4,
 "nbformat_minor": 2
}
