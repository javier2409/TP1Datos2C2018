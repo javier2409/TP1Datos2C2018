{
 "cells": [
  {
   "cell_type": "code",
   "execution_count": 1,
   "metadata": {},
   "outputs": [],
   "source": [
    "import pandas as pd\n",
    "import seaborn as sns\n",
    "import matplotlib.pyplot as plt\n"
   ]
  },
  {
   "cell_type": "code",
   "execution_count": 2,
   "metadata": {},
   "outputs": [],
   "source": [
    "df =  pd.read_csv(\"events.csv\", low_memory=False)"
   ]
  },
  {
   "cell_type": "markdown",
   "metadata": {},
   "source": [
    "# Casos particulares de clientes de Trocafone"
   ]
  },
  {
   "cell_type": "markdown",
   "metadata": {},
   "source": [
    "# Clientes con mayor compras"
   ]
  },
  {
   "cell_type": "code",
   "execution_count": 109,
   "metadata": {},
   "outputs": [
    {
     "data": {
      "text/plain": [
       "252adec6    15\n",
       "4200bdee    12\n",
       "a0d4baef    11\n",
       "ba325a6b    10\n",
       "f646efa2     8\n",
       "a96e304b     8\n",
       "d12fbe38     8\n",
       "Name: person, dtype: int64"
      ]
     },
     "execution_count": 109,
     "metadata": {},
     "output_type": "execute_result"
    }
   ],
   "source": [
    "personas = df.loc[df['event'] == 'conversion','person']\n",
    "personas.value_counts().head(7)\n"
   ]
  },
  {
   "cell_type": "markdown",
   "metadata": {},
   "source": [
    "# Clientes que compraron varias veces el mismo celular "
   ]
  },
  {
   "cell_type": "code",
   "execution_count": 110,
   "metadata": {},
   "outputs": [
    {
     "data": {
      "text/html": [
       "<div>\n",
       "<style scoped>\n",
       "    .dataframe tbody tr th:only-of-type {\n",
       "        vertical-align: middle;\n",
       "    }\n",
       "\n",
       "    .dataframe tbody tr th {\n",
       "        vertical-align: top;\n",
       "    }\n",
       "\n",
       "    .dataframe thead th {\n",
       "        text-align: right;\n",
       "    }\n",
       "</style>\n",
       "<table border=\"1\" class=\"dataframe\">\n",
       "  <thead>\n",
       "    <tr style=\"text-align: right;\">\n",
       "      <th></th>\n",
       "      <th>person</th>\n",
       "      <th>Compras del mismo producto</th>\n",
       "      <th>Nombre del producto</th>\n",
       "    </tr>\n",
       "  </thead>\n",
       "  <tbody>\n",
       "    <tr>\n",
       "      <th>0</th>\n",
       "      <td>252adec6</td>\n",
       "      <td>15</td>\n",
       "      <td>Motorola Moto G2 3G Dual Muito Bom 16GB Preto</td>\n",
       "    </tr>\n",
       "    <tr>\n",
       "      <th>1</th>\n",
       "      <td>4200bdee</td>\n",
       "      <td>12</td>\n",
       "      <td>Samsung Galaxy A5 Bom 16GB Branco</td>\n",
       "    </tr>\n",
       "    <tr>\n",
       "      <th>2</th>\n",
       "      <td>a0d4baef</td>\n",
       "      <td>11</td>\n",
       "      <td>Samsung Galaxy J1 Mini Muito Bom 8GB Preto</td>\n",
       "    </tr>\n",
       "    <tr>\n",
       "      <th>3</th>\n",
       "      <td>ba325a6b</td>\n",
       "      <td>10</td>\n",
       "      <td>Samsung Galaxy S6 Flat Bom 32GB Dourado</td>\n",
       "    </tr>\n",
       "    <tr>\n",
       "      <th>4</th>\n",
       "      <td>f646efa2</td>\n",
       "      <td>8</td>\n",
       "      <td>Samsung Galaxy J5 Bom 16GB Dourado</td>\n",
       "    </tr>\n",
       "    <tr>\n",
       "      <th>5</th>\n",
       "      <td>d12fbe38</td>\n",
       "      <td>8</td>\n",
       "      <td>Samsung Galaxy Note 4 Muito Bom 32GB Branco</td>\n",
       "    </tr>\n",
       "    <tr>\n",
       "      <th>6</th>\n",
       "      <td>a96e304b</td>\n",
       "      <td>8</td>\n",
       "      <td>iPhone 5c Bom 8GB Amarelo</td>\n",
       "    </tr>\n",
       "  </tbody>\n",
       "</table>\n",
       "</div>"
      ],
      "text/plain": [
       "     person  Compras del mismo producto  \\\n",
       "0  252adec6                          15   \n",
       "1  4200bdee                          12   \n",
       "2  a0d4baef                          11   \n",
       "3  ba325a6b                          10   \n",
       "4  f646efa2                           8   \n",
       "5  d12fbe38                           8   \n",
       "6  a96e304b                           8   \n",
       "\n",
       "                             Nombre del producto  \n",
       "0  Motorola Moto G2 3G Dual Muito Bom 16GB Preto  \n",
       "1              Samsung Galaxy A5 Bom 16GB Branco  \n",
       "2     Samsung Galaxy J1 Mini Muito Bom 8GB Preto  \n",
       "3        Samsung Galaxy S6 Flat Bom 32GB Dourado  \n",
       "4             Samsung Galaxy J5 Bom 16GB Dourado  \n",
       "5    Samsung Galaxy Note 4 Muito Bom 32GB Branco  \n",
       "6                      iPhone 5c Bom 8GB Amarelo  "
      ]
     },
     "execution_count": 110,
     "metadata": {},
     "output_type": "execute_result"
    }
   ],
   "source": [
    "personas = df.loc[df['event'] == 'conversion',['person','event','sku','model','condition','storage','color']]\n",
    "personas['descripcionCompleta'] = personas['model']+\" \"+personas['condition']+\" \"+personas['storage']+\" \"+personas['color']\n",
    "\n",
    "personas = personas.groupby('person').agg({'descripcionCompleta':['count','min']})\n",
    "personas.columns = ['Compras del mismo producto',\"Nombre del producto\"]\n",
    "personas.sort_values(by='Compras del mismo producto', ascending = False).reset_index().head(7)\n"
   ]
  },
  {
   "cell_type": "markdown",
   "metadata": {},
   "source": [
    "### Estas personas de forma extraña, en 5 meses compraron exactamente el mismo celular\n",
    "\n",
    "#### _La particularidad que trae esto es que los clientes que mas compraron celulares en Trocafone, compraron el mismo celular. Lo que nos puede llevar a pensar que son para uso empresarial_"
   ]
  },
  {
   "cell_type": "code",
   "execution_count": null,
   "metadata": {},
   "outputs": [],
   "source": []
  },
  {
   "cell_type": "code",
   "execution_count": null,
   "metadata": {},
   "outputs": [],
   "source": []
  }
 ],
 "metadata": {
  "kernelspec": {
   "display_name": "Python 3",
   "language": "python",
   "name": "python3"
  },
  "language_info": {
   "codemirror_mode": {
    "name": "ipython",
    "version": 3
   },
   "file_extension": ".py",
   "mimetype": "text/x-python",
   "name": "python",
   "nbconvert_exporter": "python",
   "pygments_lexer": "ipython3",
   "version": "3.6.5"
  }
 },
 "nbformat": 4,
 "nbformat_minor": 2
}
