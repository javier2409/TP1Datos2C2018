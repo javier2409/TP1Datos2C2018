{
 "cells": [
  {
   "cell_type": "code",
<<<<<<< HEAD
   "execution_count": 2,
=======
   "execution_count": 6,
>>>>>>> 9f7bd589dfef6b442bd38d502db4a9a0e3bea1e5
   "metadata": {},
   "outputs": [],
   "source": [
    "import pandas as pd\n",
    "import numpy as npy"
   ]
  },
  {
   "cell_type": "code",
<<<<<<< HEAD
   "execution_count": 3,
=======
   "execution_count": 7,
>>>>>>> 9f7bd589dfef6b442bd38d502db4a9a0e3bea1e5
   "metadata": {},
   "outputs": [
    {
     "ename": "FileNotFoundError",
     "evalue": "[WinError 3] El sistema no puede encontrar la ruta especificada: '/home/javier/Escritorio/TP1 Datos/TP1_Datos_2C2018'",
     "output_type": "error",
     "traceback": [
      "\u001b[1;31m---------------------------------------------------------------------------\u001b[0m",
      "\u001b[1;31mFileNotFoundError\u001b[0m                         Traceback (most recent call last)",
      "\u001b[1;32m<ipython-input-3-6286984cd963>\u001b[0m in \u001b[0;36m<module>\u001b[1;34m()\u001b[0m\n\u001b[0;32m      1\u001b[0m \u001b[1;32mimport\u001b[0m \u001b[0mos\u001b[0m\u001b[1;33m\u001b[0m\u001b[0m\n\u001b[1;32m----> 2\u001b[1;33m \u001b[0mos\u001b[0m\u001b[1;33m.\u001b[0m\u001b[0mchdir\u001b[0m\u001b[1;33m(\u001b[0m\u001b[1;34m'/home/javier/Escritorio/TP1 Datos/TP1_Datos_2C2018'\u001b[0m\u001b[1;33m)\u001b[0m\u001b[1;33m\u001b[0m\u001b[0m\n\u001b[0m",
      "\u001b[1;31mFileNotFoundError\u001b[0m: [WinError 3] El sistema no puede encontrar la ruta especificada: '/home/javier/Escritorio/TP1 Datos/TP1_Datos_2C2018'"
     ]
    }
   ],
   "source": [
    "import os\n",
    "os.chdir('/home/javier/Escritorio/TP1 Datos/TP1_Datos_2C2018')"
   ]
  },
  {
   "cell_type": "code",
<<<<<<< HEAD
   "execution_count": 22,
=======
   "execution_count": 8,
>>>>>>> 9f7bd589dfef6b442bd38d502db4a9a0e3bea1e5
   "metadata": {},
   "outputs": [],
   "source": [
    "df = pd.read_csv('events.csv',low_memory=False)"
   ]
  },
  {
   "cell_type": "code",
<<<<<<< HEAD
   "execution_count": 23,
=======
   "execution_count": 9,
>>>>>>> 9f7bd589dfef6b442bd38d502db4a9a0e3bea1e5
   "metadata": {},
   "outputs": [
    {
     "name": "stdout",
     "output_type": "stream",
     "text": [
      "<class 'pandas.core.frame.DataFrame'>\n",
      "RangeIndex: 1011288 entries, 0 to 1011287\n",
      "Data columns (total 23 columns):\n",
      "timestamp                   1011288 non-null object\n",
      "event                       1011288 non-null object\n",
      "person                      1011288 non-null object\n",
      "url                         82756 non-null object\n",
      "sku                         563838 non-null object\n",
      "model                       564284 non-null object\n",
      "condition                   563836 non-null object\n",
      "storage                     563836 non-null object\n",
      "color                       563836 non-null object\n",
      "skus                        221699 non-null object\n",
      "search_term                 48967 non-null object\n",
      "staticpage                  3598 non-null object\n",
      "campaign_source             82796 non-null object\n",
      "search_engine               50957 non-null object\n",
      "channel                     87378 non-null object\n",
      "new_vs_returning            87378 non-null object\n",
      "city                        87378 non-null object\n",
      "region                      87378 non-null object\n",
      "country                     87378 non-null object\n",
      "device_type                 87378 non-null object\n",
      "screen_resolution           87378 non-null object\n",
      "operating_system_version    87378 non-null object\n",
      "browser_version             87378 non-null object\n",
      "dtypes: object(23)\n",
      "memory usage: 177.5+ MB\n",
      "None\n"
     ]
    }
   ],
   "source": [
    "print(df.info())"
   ]
  },
  {
   "cell_type": "code",
<<<<<<< HEAD
   "execution_count": 24,
=======
   "execution_count": 10,
>>>>>>> 9f7bd589dfef6b442bd38d502db4a9a0e3bea1e5
   "metadata": {},
   "outputs": [
    {
     "name": "stdout",
     "output_type": "stream",
     "text": [
      "<class 'pandas.core.frame.DataFrame'>\n",
      "Int64Index: 98635 entries, 12 to 1011165\n",
      "Data columns (total 23 columns):\n",
      "timestamp                   98635 non-null object\n",
      "event                       98635 non-null object\n",
      "person                      98635 non-null object\n",
      "url                         0 non-null object\n",
      "sku                         0 non-null object\n",
      "model                       0 non-null object\n",
      "condition                   0 non-null object\n",
      "storage                     0 non-null object\n",
      "color                       0 non-null object\n",
      "skus                        98324 non-null object\n",
      "search_term                 0 non-null object\n",
      "staticpage                  0 non-null object\n",
      "campaign_source             0 non-null object\n",
      "search_engine               0 non-null object\n",
      "channel                     0 non-null object\n",
      "new_vs_returning            0 non-null object\n",
      "city                        0 non-null object\n",
      "region                      0 non-null object\n",
      "country                     0 non-null object\n",
      "device_type                 0 non-null object\n",
      "screen_resolution           0 non-null object\n",
      "operating_system_version    0 non-null object\n",
      "browser_version             0 non-null object\n",
      "dtypes: object(23)\n",
      "memory usage: 18.1+ MB\n"
     ]
    }
   ],
   "source": [
    "df.loc[df['event']=='brand listing'].info()"
   ]
  },
  {
   "cell_type": "code",
   "execution_count": null,
   "metadata": {},
   "outputs": [],
   "source": []
  },
  {
   "cell_type": "code",
<<<<<<< HEAD
   "execution_count": 25,
=======
   "execution_count": 11,
>>>>>>> 9f7bd589dfef6b442bd38d502db4a9a0e3bea1e5
   "metadata": {},
   "outputs": [],
   "source": [
    "mdl = df['model']\n",
    "stg = df['storage']\n",
    "clr = df['color']\n",
    "cnd = df['condition']\n",
    "spc = ' '\n",
    "df['nombreproducto'] = mdl+spc+stg+spc+clr+spc+cnd"
   ]
  },
  {
   "cell_type": "code",
<<<<<<< HEAD
   "execution_count": 26,
=======
   "execution_count": 12,
>>>>>>> 9f7bd589dfef6b442bd38d502db4a9a0e3bea1e5
   "metadata": {
    "scrolled": true
   },
   "outputs": [
    {
     "name": "stdout",
     "output_type": "stream",
     "text": [
      "<class 'pandas.core.frame.DataFrame'>\n",
      "RangeIndex: 1011288 entries, 0 to 1011287\n",
      "Data columns (total 24 columns):\n",
      "timestamp                   1011288 non-null object\n",
      "event                       1011288 non-null object\n",
      "person                      1011288 non-null object\n",
      "url                         82756 non-null object\n",
      "sku                         563838 non-null object\n",
      "model                       564284 non-null object\n",
      "condition                   563836 non-null object\n",
      "storage                     563836 non-null object\n",
      "color                       563836 non-null object\n",
      "skus                        221699 non-null object\n",
      "search_term                 48967 non-null object\n",
      "staticpage                  3598 non-null object\n",
      "campaign_source             82796 non-null object\n",
      "search_engine               50957 non-null object\n",
      "channel                     87378 non-null object\n",
      "new_vs_returning            87378 non-null object\n",
      "city                        87378 non-null object\n",
      "region                      87378 non-null object\n",
      "country                     87378 non-null object\n",
      "device_type                 87378 non-null object\n",
      "screen_resolution           87378 non-null object\n",
      "operating_system_version    87378 non-null object\n",
      "browser_version             87378 non-null object\n",
      "nombreproducto              563836 non-null object\n",
      "dtypes: object(24)\n",
      "memory usage: 185.2+ MB\n"
     ]
    }
   ],
   "source": [
    "df.info()"
   ]
  },
  {
   "cell_type": "code",
<<<<<<< HEAD
   "execution_count": 27,
=======
   "execution_count": 13,
>>>>>>> 9f7bd589dfef6b442bd38d502db4a9a0e3bea1e5
   "metadata": {},
   "outputs": [
    {
     "data": {
      "text/html": [
       "<div>\n",
       "<style scoped>\n",
       "    .dataframe tbody tr th:only-of-type {\n",
       "        vertical-align: middle;\n",
       "    }\n",
       "\n",
       "    .dataframe tbody tr th {\n",
       "        vertical-align: top;\n",
       "    }\n",
       "\n",
       "    .dataframe thead th {\n",
       "        text-align: right;\n",
       "    }\n",
       "</style>\n",
       "<table border=\"1\" class=\"dataframe\">\n",
       "  <thead>\n",
       "    <tr style=\"text-align: right;\">\n",
       "      <th></th>\n",
       "      <th>timestamp</th>\n",
       "    </tr>\n",
       "  </thead>\n",
       "  <tbody>\n",
       "    <tr>\n",
       "      <th>0</th>\n",
       "      <td>2018-05-31 23:38:05</td>\n",
       "    </tr>\n",
       "    <tr>\n",
       "      <th>1</th>\n",
       "      <td>2018-05-31 23:38:05</td>\n",
       "    </tr>\n",
       "    <tr>\n",
       "      <th>2</th>\n",
       "      <td>2018-05-31 23:38:09</td>\n",
       "    </tr>\n",
       "    <tr>\n",
       "      <th>3</th>\n",
       "      <td>2018-05-31 23:38:40</td>\n",
       "    </tr>\n",
       "    <tr>\n",
       "      <th>4</th>\n",
       "      <td>2018-05-29 13:29:25</td>\n",
       "    </tr>\n",
       "  </tbody>\n",
       "</table>\n",
       "</div>"
      ],
      "text/plain": [
       "             timestamp\n",
       "0  2018-05-31 23:38:05\n",
       "1  2018-05-31 23:38:05\n",
       "2  2018-05-31 23:38:09\n",
       "3  2018-05-31 23:38:40\n",
       "4  2018-05-29 13:29:25"
      ]
     },
<<<<<<< HEAD
     "execution_count": 27,
=======
     "execution_count": 13,
>>>>>>> 9f7bd589dfef6b442bd38d502db4a9a0e3bea1e5
     "metadata": {},
     "output_type": "execute_result"
    }
   ],
   "source": [
    "df['timestamp'].head().to_frame()"
   ]
  },
  {
   "cell_type": "code",
<<<<<<< HEAD
   "execution_count": 28,
=======
   "execution_count": 14,
>>>>>>> 9f7bd589dfef6b442bd38d502db4a9a0e3bea1e5
   "metadata": {},
   "outputs": [],
   "source": [
    "df['time'] = pd.to_datetime(df['timestamp'])"
   ]
  },
  {
   "cell_type": "code",
<<<<<<< HEAD
   "execution_count": 29,
=======
   "execution_count": 15,
>>>>>>> 9f7bd589dfef6b442bd38d502db4a9a0e3bea1e5
   "metadata": {},
   "outputs": [
    {
     "data": {
      "text/html": [
       "<div>\n",
       "<style scoped>\n",
       "    .dataframe tbody tr th:only-of-type {\n",
       "        vertical-align: middle;\n",
       "    }\n",
       "\n",
       "    .dataframe tbody tr th {\n",
       "        vertical-align: top;\n",
       "    }\n",
       "\n",
       "    .dataframe thead th {\n",
       "        text-align: right;\n",
       "    }\n",
       "</style>\n",
       "<table border=\"1\" class=\"dataframe\">\n",
       "  <thead>\n",
       "    <tr style=\"text-align: right;\">\n",
       "      <th></th>\n",
       "      <th>time</th>\n",
       "    </tr>\n",
       "  </thead>\n",
       "  <tbody>\n",
       "    <tr>\n",
       "      <th>0</th>\n",
       "      <td>2018-05-31 23:38:05</td>\n",
       "    </tr>\n",
       "    <tr>\n",
       "      <th>1</th>\n",
       "      <td>2018-05-31 23:38:05</td>\n",
       "    </tr>\n",
       "    <tr>\n",
       "      <th>2</th>\n",
       "      <td>2018-05-31 23:38:09</td>\n",
       "    </tr>\n",
       "    <tr>\n",
       "      <th>3</th>\n",
       "      <td>2018-05-31 23:38:40</td>\n",
       "    </tr>\n",
       "    <tr>\n",
       "      <th>4</th>\n",
       "      <td>2018-05-29 13:29:25</td>\n",
       "    </tr>\n",
       "  </tbody>\n",
       "</table>\n",
       "</div>"
      ],
      "text/plain": [
       "                 time\n",
       "0 2018-05-31 23:38:05\n",
       "1 2018-05-31 23:38:05\n",
       "2 2018-05-31 23:38:09\n",
       "3 2018-05-31 23:38:40\n",
       "4 2018-05-29 13:29:25"
      ]
     },
<<<<<<< HEAD
     "execution_count": 29,
=======
     "execution_count": 15,
>>>>>>> 9f7bd589dfef6b442bd38d502db4a9a0e3bea1e5
     "metadata": {},
     "output_type": "execute_result"
    }
   ],
   "source": [
    "df['time'].head().to_frame()"
   ]
  },
  {
   "cell_type": "code",
<<<<<<< HEAD
   "execution_count": 30,
=======
   "execution_count": 16,
>>>>>>> 9f7bd589dfef6b442bd38d502db4a9a0e3bea1e5
   "metadata": {},
   "outputs": [],
   "source": [
    "df['month'] = df['time'].dt.month"
   ]
  },
  {
   "cell_type": "code",
<<<<<<< HEAD
   "execution_count": 31,
=======
   "execution_count": 17,
>>>>>>> 9f7bd589dfef6b442bd38d502db4a9a0e3bea1e5
   "metadata": {},
   "outputs": [
    {
     "data": {
      "text/plain": [
       "5    474949\n",
       "6    281882\n",
       "4    130008\n",
       "3     77293\n",
       "2     27886\n",
       "1     19270\n",
       "Name: month, dtype: int64"
      ]
     },
<<<<<<< HEAD
     "execution_count": 31,
=======
     "execution_count": 17,
>>>>>>> 9f7bd589dfef6b442bd38d502db4a9a0e3bea1e5
     "metadata": {},
     "output_type": "execute_result"
    }
   ],
   "source": [
    "df['month'].value_counts()"
   ]
  },
  {
   "cell_type": "code",
<<<<<<< HEAD
   "execution_count": 32,
=======
   "execution_count": 18,
>>>>>>> 9f7bd589dfef6b442bd38d502db4a9a0e3bea1e5
   "metadata": {},
   "outputs": [],
   "source": [
    "df['year'] = df['time'].dt.year"
   ]
  },
  {
   "cell_type": "code",
<<<<<<< HEAD
   "execution_count": 33,
=======
   "execution_count": 19,
>>>>>>> 9f7bd589dfef6b442bd38d502db4a9a0e3bea1e5
   "metadata": {},
   "outputs": [],
   "source": [
    "df['hour'] = df['time'].dt.hour"
   ]
  },
  {
   "cell_type": "code",
<<<<<<< HEAD
   "execution_count": 34,
=======
   "execution_count": 20,
>>>>>>> 9f7bd589dfef6b442bd38d502db4a9a0e3bea1e5
   "metadata": {},
   "outputs": [
    {
     "name": "stdout",
     "output_type": "stream",
     "text": [
      "<class 'pandas.core.frame.DataFrame'>\n",
      "RangeIndex: 1011288 entries, 0 to 1011287\n",
      "Data columns (total 28 columns):\n",
      "timestamp                   1011288 non-null object\n",
      "event                       1011288 non-null object\n",
      "person                      1011288 non-null object\n",
      "url                         82756 non-null object\n",
      "sku                         563838 non-null object\n",
      "model                       564284 non-null object\n",
      "condition                   563836 non-null object\n",
      "storage                     563836 non-null object\n",
      "color                       563836 non-null object\n",
      "skus                        221699 non-null object\n",
      "search_term                 48967 non-null object\n",
      "staticpage                  3598 non-null object\n",
      "campaign_source             82796 non-null object\n",
      "search_engine               50957 non-null object\n",
      "channel                     87378 non-null object\n",
      "new_vs_returning            87378 non-null object\n",
      "city                        87378 non-null object\n",
      "region                      87378 non-null object\n",
      "country                     87378 non-null object\n",
      "device_type                 87378 non-null object\n",
      "screen_resolution           87378 non-null object\n",
      "operating_system_version    87378 non-null object\n",
      "browser_version             87378 non-null object\n",
      "nombreproducto              563836 non-null object\n",
      "time                        1011288 non-null datetime64[ns]\n",
      "month                       1011288 non-null int64\n",
      "year                        1011288 non-null int64\n",
      "hour                        1011288 non-null int64\n",
      "dtypes: datetime64[ns](1), int64(3), object(24)\n",
      "memory usage: 216.0+ MB\n"
     ]
    }
   ],
   "source": [
    "df.info()"
   ]
  },
  {
   "cell_type": "code",
<<<<<<< HEAD
   "execution_count": 35,
=======
   "execution_count": 21,
>>>>>>> 9f7bd589dfef6b442bd38d502db4a9a0e3bea1e5
   "metadata": {},
   "outputs": [
    {
     "data": {
      "text/plain": [
       "2018    1011288\n",
       "Name: year, dtype: int64"
      ]
     },
<<<<<<< HEAD
     "execution_count": 35,
=======
     "execution_count": 21,
>>>>>>> 9f7bd589dfef6b442bd38d502db4a9a0e3bea1e5
     "metadata": {},
     "output_type": "execute_result"
    }
   ],
   "source": [
    "df['year'].value_counts()"
   ]
  },
  {
   "cell_type": "code",
<<<<<<< HEAD
   "execution_count": 36,
=======
   "execution_count": 22,
>>>>>>> 9f7bd589dfef6b442bd38d502db4a9a0e3bea1e5
   "metadata": {},
   "outputs": [],
   "source": [
    "df_conversions = df[df['event']=='conversion']"
   ]
  },
  {
   "cell_type": "code",
<<<<<<< HEAD
   "execution_count": 37,
=======
   "execution_count": 23,
>>>>>>> 9f7bd589dfef6b442bd38d502db4a9a0e3bea1e5
   "metadata": {},
   "outputs": [
    {
     "data": {
      "text/plain": [
       "Samsung Galaxy J5         88\n",
       "iPhone 5s                 84\n",
       "iPhone 6                  71\n",
       "Samsung Galaxy S6 Flat    39\n",
       "iPhone 6S                 37\n",
       "Name: model, dtype: int64"
      ]
     },
<<<<<<< HEAD
     "execution_count": 37,
=======
     "execution_count": 23,
>>>>>>> 9f7bd589dfef6b442bd38d502db4a9a0e3bea1e5
     "metadata": {},
     "output_type": "execute_result"
    }
   ],
   "source": [
    "df_conversions['model'].value_counts().head()"
   ]
  },
  {
   "cell_type": "code",
<<<<<<< HEAD
   "execution_count": 38,
=======
   "execution_count": 24,
>>>>>>> 9f7bd589dfef6b442bd38d502db4a9a0e3bea1e5
   "metadata": {},
   "outputs": [
    {
     "data": {
      "text/plain": [
       "timestamp                   False\n",
       "event                       False\n",
       "person                      False\n",
       "url                          True\n",
       "sku                         False\n",
       "model                       False\n",
       "condition                   False\n",
       "storage                     False\n",
       "color                       False\n",
       "skus                         True\n",
       "search_term                  True\n",
       "staticpage                   True\n",
       "campaign_source              True\n",
       "search_engine                True\n",
       "channel                      True\n",
       "new_vs_returning             True\n",
       "city                         True\n",
       "region                       True\n",
       "country                      True\n",
       "device_type                  True\n",
       "screen_resolution            True\n",
       "operating_system_version     True\n",
       "browser_version              True\n",
       "nombreproducto              False\n",
       "time                        False\n",
       "month                       False\n",
       "year                        False\n",
       "hour                        False\n",
       "dtype: bool"
      ]
     },
<<<<<<< HEAD
     "execution_count": 38,
=======
     "execution_count": 24,
>>>>>>> 9f7bd589dfef6b442bd38d502db4a9a0e3bea1e5
     "metadata": {},
     "output_type": "execute_result"
    }
   ],
   "source": [
    "df_conversions.isnull().any()"
   ]
  },
  {
   "cell_type": "code",
<<<<<<< HEAD
   "execution_count": 39,
=======
   "execution_count": 25,
>>>>>>> 9f7bd589dfef6b442bd38d502db4a9a0e3bea1e5
   "metadata": {},
   "outputs": [
    {
     "name": "stdout",
     "output_type": "stream",
     "text": [
      "(1172, 28)\n",
      "timestamp                      0\n",
      "event                          0\n",
      "person                         0\n",
      "url                         1172\n",
      "sku                            0\n",
      "model                          0\n",
      "condition                      0\n",
      "storage                        0\n",
      "color                          0\n",
      "skus                        1172\n",
      "search_term                 1172\n",
      "staticpage                  1172\n",
      "campaign_source             1172\n",
      "search_engine               1172\n",
      "channel                     1172\n",
      "new_vs_returning            1172\n",
      "city                        1172\n",
      "region                      1172\n",
      "country                     1172\n",
      "device_type                 1172\n",
      "screen_resolution           1172\n",
      "operating_system_version    1172\n",
      "browser_version             1172\n",
      "nombreproducto                 0\n",
      "time                           0\n",
      "month                          0\n",
      "year                           0\n",
      "hour                           0\n",
      "dtype: int64\n"
     ]
    }
   ],
   "source": [
    "print(df_conversions.shape)\n",
    "print(df_conversions.isnull().sum())"
   ]
  },
  {
   "cell_type": "code",
<<<<<<< HEAD
   "execution_count": 40,
=======
   "execution_count": 26,
>>>>>>> 9f7bd589dfef6b442bd38d502db4a9a0e3bea1e5
   "metadata": {
    "scrolled": true
   },
   "outputs": [
    {
     "data": {
      "text/plain": [
<<<<<<< HEAD
       "<matplotlib.axes._subplots.AxesSubplot at 0x29d01ebc7b8>"
      ]
     },
     "execution_count": 40,
=======
       "<matplotlib.axes._subplots.AxesSubplot at 0x7f05721332e8>"
      ]
     },
     "execution_count": 26,
>>>>>>> 9f7bd589dfef6b442bd38d502db4a9a0e3bea1e5
     "metadata": {},
     "output_type": "execute_result"
    }
   ],
   "source": [
    "plot = df_conversions['month'].value_counts().head().sort_index().plot.bar()\n",
    "plot.set_xlabel('Mes')\n",
    "plot.set_ylabel('Cant. de ventas')\n",
    "plot"
   ]
  },
  {
   "cell_type": "code",
<<<<<<< HEAD
   "execution_count": 41,
=======
   "execution_count": 27,
>>>>>>> 9f7bd589dfef6b442bd38d502db4a9a0e3bea1e5
   "metadata": {},
   "outputs": [],
   "source": [
    "df_viewed = df[df['event']=='viewed product']"
   ]
  },
  {
   "cell_type": "markdown",
   "metadata": {},
   "source": [
    "# Productos más vistos"
   ]
  },
  {
   "cell_type": "code",
<<<<<<< HEAD
   "execution_count": 42,
=======
   "execution_count": 28,
>>>>>>> 9f7bd589dfef6b442bd38d502db4a9a0e3bea1e5
   "metadata": {},
   "outputs": [
    {
     "data": {
      "text/html": [
       "<div>\n",
       "<style scoped>\n",
       "    .dataframe tbody tr th:only-of-type {\n",
       "        vertical-align: middle;\n",
       "    }\n",
       "\n",
       "    .dataframe tbody tr th {\n",
       "        vertical-align: top;\n",
       "    }\n",
       "\n",
       "    .dataframe thead th {\n",
       "        text-align: right;\n",
       "    }\n",
       "</style>\n",
       "<table border=\"1\" class=\"dataframe\">\n",
       "  <thead>\n",
       "    <tr style=\"text-align: right;\">\n",
       "      <th></th>\n",
       "      <th>nombreproducto</th>\n",
       "    </tr>\n",
       "  </thead>\n",
       "  <tbody>\n",
       "    <tr>\n",
       "      <th>iPhone 6 16GB Cinza espacial Bom</th>\n",
       "      <td>4163</td>\n",
       "    </tr>\n",
       "    <tr>\n",
       "      <th>iPhone 6 16GB Prateado Bom</th>\n",
       "      <td>3574</td>\n",
       "    </tr>\n",
       "    <tr>\n",
       "      <th>iPhone 6 16GB Dourado Bom</th>\n",
       "      <td>3566</td>\n",
       "    </tr>\n",
       "    <tr>\n",
       "      <th>Samsung Galaxy S7 32GB Preto Bom</th>\n",
       "      <td>3421</td>\n",
       "    </tr>\n",
       "    <tr>\n",
       "      <th>Samsung Galaxy S8 64GB Preto Bom</th>\n",
       "      <td>2866</td>\n",
       "    </tr>\n",
       "  </tbody>\n",
       "</table>\n",
       "</div>"
      ],
      "text/plain": [
       "                                  nombreproducto\n",
       "iPhone 6 16GB Cinza espacial Bom            4163\n",
       "iPhone 6 16GB Prateado Bom                  3574\n",
       "iPhone 6 16GB Dourado Bom                   3566\n",
       "Samsung Galaxy S7 32GB Preto Bom            3421\n",
       "Samsung Galaxy S8 64GB Preto Bom            2866"
      ]
     },
<<<<<<< HEAD
     "execution_count": 42,
=======
     "execution_count": 28,
>>>>>>> 9f7bd589dfef6b442bd38d502db4a9a0e3bea1e5
     "metadata": {},
     "output_type": "execute_result"
    }
   ],
   "source": [
    "df_viewed['nombreproducto'].value_counts().head().to_frame()"
   ]
  },
  {
   "cell_type": "markdown",
   "metadata": {},
   "source": [
    "# Productos más comprados"
   ]
  },
  {
   "cell_type": "code",
<<<<<<< HEAD
   "execution_count": 43,
=======
   "execution_count": 29,
>>>>>>> 9f7bd589dfef6b442bd38d502db4a9a0e3bea1e5
   "metadata": {},
   "outputs": [
    {
     "data": {
      "text/html": [
       "<div>\n",
       "<style scoped>\n",
       "    .dataframe tbody tr th:only-of-type {\n",
       "        vertical-align: middle;\n",
       "    }\n",
       "\n",
       "    .dataframe tbody tr th {\n",
       "        vertical-align: top;\n",
       "    }\n",
       "\n",
       "    .dataframe thead th {\n",
       "        text-align: right;\n",
       "    }\n",
       "</style>\n",
       "<table border=\"1\" class=\"dataframe\">\n",
       "  <thead>\n",
       "    <tr style=\"text-align: right;\">\n",
       "      <th></th>\n",
       "      <th>nombreproducto</th>\n",
       "    </tr>\n",
       "  </thead>\n",
       "  <tbody>\n",
       "    <tr>\n",
       "      <th>Samsung Galaxy J5 16GB Dourado Bom</th>\n",
       "      <td>30</td>\n",
       "    </tr>\n",
       "    <tr>\n",
       "      <th>Samsung Galaxy J5 16GB Dourado Muito Bom</th>\n",
       "      <td>18</td>\n",
       "    </tr>\n",
       "    <tr>\n",
       "      <th>Motorola Moto G3 4G 16GB Preto Bom</th>\n",
       "      <td>17</td>\n",
       "    </tr>\n",
       "    <tr>\n",
       "      <th>iPhone 5s 16GB Cinza espacial Bom</th>\n",
       "      <td>16</td>\n",
       "    </tr>\n",
       "    <tr>\n",
       "      <th>Samsung Galaxy S6 Flat 32GB Dourado Bom</th>\n",
       "      <td>14</td>\n",
       "    </tr>\n",
       "  </tbody>\n",
       "</table>\n",
       "</div>"
      ],
      "text/plain": [
       "                                          nombreproducto\n",
       "Samsung Galaxy J5 16GB Dourado Bom                    30\n",
       "Samsung Galaxy J5 16GB Dourado Muito Bom              18\n",
       "Motorola Moto G3 4G 16GB Preto Bom                    17\n",
       "iPhone 5s 16GB Cinza espacial Bom                     16\n",
       "Samsung Galaxy S6 Flat 32GB Dourado Bom               14"
      ]
     },
<<<<<<< HEAD
     "execution_count": 43,
=======
     "execution_count": 29,
>>>>>>> 9f7bd589dfef6b442bd38d502db4a9a0e3bea1e5
     "metadata": {},
     "output_type": "execute_result"
    }
   ],
   "source": [
    "df_conversions['nombreproducto'].value_counts().head().to_frame()"
   ]
  },
  {
   "cell_type": "code",
<<<<<<< HEAD
   "execution_count": 44,
=======
   "execution_count": 30,
>>>>>>> 9f7bd589dfef6b442bd38d502db4a9a0e3bea1e5
   "metadata": {},
   "outputs": [
    {
     "data": {
      "text/html": [
       "<div>\n",
       "<style scoped>\n",
       "    .dataframe tbody tr th:only-of-type {\n",
       "        vertical-align: middle;\n",
       "    }\n",
       "\n",
       "    .dataframe tbody tr th {\n",
       "        vertical-align: top;\n",
       "    }\n",
       "\n",
       "    .dataframe thead th {\n",
       "        text-align: right;\n",
       "    }\n",
       "</style>\n",
       "<table border=\"1\" class=\"dataframe\">\n",
       "  <thead>\n",
       "    <tr style=\"text-align: right;\">\n",
       "      <th></th>\n",
       "      <th>nombreproducto</th>\n",
       "    </tr>\n",
       "  </thead>\n",
       "  <tbody>\n",
       "    <tr>\n",
       "      <th>1</th>\n",
       "      <td>3573</td>\n",
       "    </tr>\n",
       "    <tr>\n",
       "      <th>0</th>\n",
       "      <td>1</td>\n",
       "    </tr>\n",
       "  </tbody>\n",
       "</table>\n",
       "</div>"
      ],
      "text/plain": [
       "   nombreproducto\n",
       "1            3573\n",
       "0               1"
      ]
     },
<<<<<<< HEAD
     "execution_count": 44,
=======
     "execution_count": 30,
>>>>>>> 9f7bd589dfef6b442bd38d502db4a9a0e3bea1e5
     "metadata": {},
     "output_type": "execute_result"
    }
   ],
   "source": [
    "#verificacion de que cada sku tiene un unico 'model+storage+color+condition'\n",
    "porsku = df.groupby('sku')\n",
    "porsku.agg({'nombreproducto':'nunique'})['nombreproducto'].value_counts().to_frame()"
   ]
  },
  {
   "cell_type": "markdown",
   "metadata": {},
   "source": [
    "# Productos comprados por más personas"
   ]
  },
  {
   "cell_type": "code",
<<<<<<< HEAD
   "execution_count": 45,
=======
   "execution_count": 31,
>>>>>>> 9f7bd589dfef6b442bd38d502db4a9a0e3bea1e5
   "metadata": {
    "scrolled": false
   },
   "outputs": [
    {
     "data": {
      "text/html": [
       "<div>\n",
       "<style scoped>\n",
       "    .dataframe tbody tr th:only-of-type {\n",
       "        vertical-align: middle;\n",
       "    }\n",
       "\n",
       "    .dataframe tbody tr th {\n",
       "        vertical-align: top;\n",
       "    }\n",
       "\n",
       "    .dataframe thead th {\n",
       "        text-align: right;\n",
       "    }\n",
       "</style>\n",
       "<table border=\"1\" class=\"dataframe\">\n",
       "  <thead>\n",
       "    <tr style=\"text-align: right;\">\n",
       "      <th></th>\n",
       "      <th>Producto</th>\n",
       "      <th>Personas que compraron</th>\n",
       "    </tr>\n",
       "  </thead>\n",
       "  <tbody>\n",
       "    <tr>\n",
       "      <th>1</th>\n",
       "      <td>Samsung Galaxy J5 16GB Dourado Bom</td>\n",
       "      <td>18</td>\n",
       "    </tr>\n",
       "    <tr>\n",
       "      <th>2</th>\n",
       "      <td>Samsung Galaxy J5 16GB Dourado Muito Bom</td>\n",
       "      <td>12</td>\n",
       "    </tr>\n",
       "    <tr>\n",
       "      <th>3</th>\n",
       "      <td>Samsung Galaxy J5 16GB Preto Bom</td>\n",
       "      <td>10</td>\n",
       "    </tr>\n",
       "    <tr>\n",
       "      <th>4</th>\n",
       "      <td>Samsung Galaxy J5 16GB Branco Bom</td>\n",
       "      <td>9</td>\n",
       "    </tr>\n",
       "    <tr>\n",
       "      <th>5</th>\n",
       "      <td>iPhone 5s 16GB Cinza espacial Muito Bom</td>\n",
       "      <td>8</td>\n",
       "    </tr>\n",
       "  </tbody>\n",
       "</table>\n",
       "</div>"
      ],
      "text/plain": [
       "                                   Producto  Personas que compraron\n",
       "1        Samsung Galaxy J5 16GB Dourado Bom                      18\n",
       "2  Samsung Galaxy J5 16GB Dourado Muito Bom                      12\n",
       "3          Samsung Galaxy J5 16GB Preto Bom                      10\n",
       "4         Samsung Galaxy J5 16GB Branco Bom                       9\n",
       "5   iPhone 5s 16GB Cinza espacial Muito Bom                       8"
      ]
     },
<<<<<<< HEAD
     "execution_count": 45,
=======
     "execution_count": 31,
>>>>>>> 9f7bd589dfef6b442bd38d502db4a9a0e3bea1e5
     "metadata": {},
     "output_type": "execute_result"
    }
   ],
   "source": [
    "ventas_porsku = df_conversions.groupby('nombreproducto')\n",
    "ventas_unicas = ventas_porsku.agg({'person':'nunique'}).sort_values('person',ascending=False).head().reset_index()\n",
    "ventas_unicas.index = ventas_unicas.index + 1\n",
    "ventas_unicas.columns = ['Producto','Personas que compraron']\n",
    "ventas_unicas"
   ]
  },
  {
   "cell_type": "code",
<<<<<<< HEAD
   "execution_count": 46,
=======
   "execution_count": 32,
>>>>>>> 9f7bd589dfef6b442bd38d502db4a9a0e3bea1e5
   "metadata": {},
   "outputs": [],
   "source": [
    "df_ads = df.loc[df['event']=='ad campaign hit']"
   ]
  },
  {
   "cell_type": "code",
<<<<<<< HEAD
   "execution_count": 47,
=======
   "execution_count": 33,
>>>>>>> 9f7bd589dfef6b442bd38d502db4a9a0e3bea1e5
   "metadata": {},
   "outputs": [
    {
     "data": {
      "text/plain": [
       "timestamp                   82827\n",
       "event                       82827\n",
       "person                      82827\n",
       "url                         82756\n",
       "sku                             0\n",
       "model                           0\n",
       "condition                       0\n",
       "storage                         0\n",
       "color                           0\n",
       "skus                            0\n",
       "search_term                     0\n",
       "staticpage                      0\n",
       "campaign_source             82796\n",
       "search_engine                   0\n",
       "channel                         0\n",
       "new_vs_returning                0\n",
       "city                            0\n",
       "region                          0\n",
       "country                         0\n",
       "device_type                     0\n",
       "screen_resolution               0\n",
       "operating_system_version        0\n",
       "browser_version                 0\n",
       "nombreproducto                  0\n",
       "time                        82827\n",
       "month                       82827\n",
       "year                        82827\n",
       "hour                        82827\n",
       "dtype: int64"
      ]
     },
<<<<<<< HEAD
     "execution_count": 47,
=======
     "execution_count": 33,
>>>>>>> 9f7bd589dfef6b442bd38d502db4a9a0e3bea1e5
     "metadata": {},
     "output_type": "execute_result"
    }
   ],
   "source": [
    "df_ads.count()"
   ]
  },
  {
   "cell_type": "code",
<<<<<<< HEAD
   "execution_count": 48,
=======
   "execution_count": 34,
>>>>>>> 9f7bd589dfef6b442bd38d502db4a9a0e3bea1e5
   "metadata": {},
   "outputs": [
    {
     "name": "stderr",
     "output_type": "stream",
     "text": [
<<<<<<< HEAD
      "C:\\Users\\Usuario\\Anaconda3\\lib\\site-packages\\ipykernel_launcher.py:1: SettingWithCopyWarning: \n",
=======
      "/home/javier/.local/lib/python3.6/site-packages/ipykernel_launcher.py:1: SettingWithCopyWarning:\n",
      "\n",
      "\n",
>>>>>>> 9f7bd589dfef6b442bd38d502db4a9a0e3bea1e5
      "A value is trying to be set on a copy of a slice from a DataFrame.\n",
      "Try using .loc[row_indexer,col_indexer] = value instead\n",
      "\n",
      "See the caveats in the documentation: http://pandas.pydata.org/pandas-docs/stable/indexing.html#indexing-view-versus-copy\n",
      "\n"
     ]
    }
   ],
   "source": [
    "df_ads['compro'] = df_ads['person'].isin(df_conversions['person'])"
   ]
  },
  {
   "cell_type": "code",
<<<<<<< HEAD
   "execution_count": 49,
=======
   "execution_count": 35,
>>>>>>> 9f7bd589dfef6b442bd38d502db4a9a0e3bea1e5
   "metadata": {},
   "outputs": [
    {
     "data": {
      "text/plain": [
       "False    73899\n",
       "True      8928\n",
       "Name: compro, dtype: int64"
      ]
     },
<<<<<<< HEAD
     "execution_count": 49,
=======
     "execution_count": 35,
>>>>>>> 9f7bd589dfef6b442bd38d502db4a9a0e3bea1e5
     "metadata": {},
     "output_type": "execute_result"
    }
   ],
   "source": [
    "df_ads['compro'].value_counts()"
   ]
  },
  {
   "cell_type": "markdown",
   "metadata": {},
   "source": [
    "# Porcentaje de personas que compraron del total que entraron por ads"
   ]
  },
  {
   "cell_type": "code",
<<<<<<< HEAD
   "execution_count": 50,
=======
   "execution_count": 36,
>>>>>>> 9f7bd589dfef6b442bd38d502db4a9a0e3bea1e5
   "metadata": {},
   "outputs": [
    {
     "data": {
      "text/plain": [
       "'Personas que compraron del total que entraron por ad: 10.78%'"
      ]
     },
<<<<<<< HEAD
     "execution_count": 50,
=======
     "execution_count": 36,
>>>>>>> 9f7bd589dfef6b442bd38d502db4a9a0e3bea1e5
     "metadata": {},
     "output_type": "execute_result"
    }
   ],
   "source": [
    "'Personas que compraron del total que entraron por ad: '+str(((df_ads['compro'].sum()/df_ads['compro'].count())*100).round(2))+'%'"
   ]
  },
  {
   "cell_type": "markdown",
   "metadata": {},
   "source": [
    "# Clicks en ads según hora del día"
   ]
  },
  {
   "cell_type": "code",
<<<<<<< HEAD
   "execution_count": 51,
=======
   "execution_count": 37,
>>>>>>> 9f7bd589dfef6b442bd38d502db4a9a0e3bea1e5
   "metadata": {},
   "outputs": [
    {
     "name": "stdout",
     "output_type": "stream",
     "text": [
      "AxesSubplot(0.125,0.125;0.775x0.755)\n"
     ]
    },
    {
     "name": "stderr",
     "output_type": "stream",
     "text": [
<<<<<<< HEAD
      "C:\\Users\\Usuario\\Anaconda3\\lib\\site-packages\\ipykernel_launcher.py:1: SettingWithCopyWarning: \n",
=======
      "/home/javier/.local/lib/python3.6/site-packages/ipykernel_launcher.py:1: SettingWithCopyWarning:\n",
      "\n",
      "\n",
>>>>>>> 9f7bd589dfef6b442bd38d502db4a9a0e3bea1e5
      "A value is trying to be set on a copy of a slice from a DataFrame.\n",
      "Try using .loc[row_indexer,col_indexer] = value instead\n",
      "\n",
      "See the caveats in the documentation: http://pandas.pydata.org/pandas-docs/stable/indexing.html#indexing-view-versus-copy\n",
      "\n"
     ]
    },
    {
     "data": {
      "image/png": "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\n",
      "text/plain": [
       "<Figure size 432x288 with 1 Axes>"
      ]
     },
     "metadata": {},
     "output_type": "display_data"
    }
   ],
   "source": [
    "df_ads['hour'] = df_ads['time'].dt.hour\n",
    "g = df_ads['hour'].plot.hist(color='green',alpha=0.5)\n",
    "g.set_xlabel('Hora')\n",
    "g.set_ylabel('Frecuencia')\n",
    "print(g)"
   ]
  },
  {
   "cell_type": "markdown",
   "metadata": {},
   "source": [
    "# Celulares más vendidos por mes"
   ]
  },
  {
   "cell_type": "code",
<<<<<<< HEAD
   "execution_count": 52,
=======
   "execution_count": 38,
>>>>>>> 9f7bd589dfef6b442bd38d502db4a9a0e3bea1e5
   "metadata": {},
   "outputs": [
    {
     "data": {
      "text/html": [
       "<div>\n",
       "<style scoped>\n",
       "    .dataframe tbody tr th:only-of-type {\n",
       "        vertical-align: middle;\n",
       "    }\n",
       "\n",
       "    .dataframe tbody tr th {\n",
       "        vertical-align: top;\n",
       "    }\n",
       "\n",
       "    .dataframe thead th {\n",
       "        text-align: right;\n",
       "    }\n",
       "</style>\n",
       "<table border=\"1\" class=\"dataframe\">\n",
       "  <thead>\n",
       "    <tr style=\"text-align: right;\">\n",
       "      <th></th>\n",
       "      <th>Modelo</th>\n",
       "      <th>Ventas</th>\n",
       "    </tr>\n",
       "    <tr>\n",
       "      <th>Mes</th>\n",
       "      <th></th>\n",
       "      <th></th>\n",
       "    </tr>\n",
       "  </thead>\n",
       "  <tbody>\n",
       "    <tr>\n",
       "      <th>1</th>\n",
       "      <td>Samsung Galaxy S6 Flat 32GB Dourado Bom</td>\n",
       "      <td>7</td>\n",
       "    </tr>\n",
       "    <tr>\n",
       "      <th>2</th>\n",
       "      <td>Samsung Galaxy Note 4 32GB Branco Muito Bom</td>\n",
       "      <td>8</td>\n",
       "    </tr>\n",
       "    <tr>\n",
       "      <th>3</th>\n",
       "      <td>Motorola Moto G3 4G 16GB Preto Bom</td>\n",
       "      <td>13</td>\n",
       "    </tr>\n",
       "    <tr>\n",
       "      <th>4</th>\n",
       "      <td>Samsung Galaxy J5 16GB Dourado Muito Bom</td>\n",
       "      <td>6</td>\n",
       "    </tr>\n",
       "    <tr>\n",
       "      <th>5</th>\n",
       "      <td>Samsung Galaxy J5 16GB Dourado Bom</td>\n",
       "      <td>17</td>\n",
       "    </tr>\n",
       "    <tr>\n",
       "      <th>6</th>\n",
       "      <td>Samsung Galaxy S8 64GB Preto Bom</td>\n",
       "      <td>5</td>\n",
       "    </tr>\n",
       "  </tbody>\n",
       "</table>\n",
       "</div>"
      ],
      "text/plain": [
       "                                          Modelo  Ventas\n",
       "Mes                                                     \n",
       "1        Samsung Galaxy S6 Flat 32GB Dourado Bom       7\n",
       "2    Samsung Galaxy Note 4 32GB Branco Muito Bom       8\n",
       "3             Motorola Moto G3 4G 16GB Preto Bom      13\n",
       "4       Samsung Galaxy J5 16GB Dourado Muito Bom       6\n",
       "5             Samsung Galaxy J5 16GB Dourado Bom      17\n",
       "6               Samsung Galaxy S8 64GB Preto Bom       5"
      ]
     },
<<<<<<< HEAD
     "execution_count": 52,
=======
     "execution_count": 38,
>>>>>>> 9f7bd589dfef6b442bd38d502db4a9a0e3bea1e5
     "metadata": {},
     "output_type": "execute_result"
    }
   ],
   "source": [
    "def values(x):\n",
    "    return x.value_counts().values[0]\n",
    "def index(x):\n",
    "    return x.value_counts().index[0]\n",
    "\n",
    "g = df_conversions.groupby('month').agg({'nombreproducto': [index,values]})\n",
    "g.columns = ['Modelo','Ventas']\n",
    "g.index.names = ['Mes']\n",
    "g"
   ]
  },
  {
   "cell_type": "code",
   "execution_count": null,
   "metadata": {},
   "outputs": [],
   "source": []
  },
  {
   "cell_type": "code",
   "execution_count": null,
   "metadata": {},
   "outputs": [],
   "source": []
  },
  {
   "cell_type": "code",
   "execution_count": null,
   "metadata": {},
   "outputs": [],
   "source": []
  }
 ],
 "metadata": {
  "kernelspec": {
   "display_name": "Python 3",
   "language": "python",
   "name": "python3"
  },
  "language_info": {
   "codemirror_mode": {
    "name": "ipython",
    "version": 3
   },
   "file_extension": ".py",
   "mimetype": "text/x-python",
   "name": "python",
   "nbconvert_exporter": "python",
   "pygments_lexer": "ipython3",
   "version": "3.6.5"
  }
 },
 "nbformat": 4,
 "nbformat_minor": 2
}
