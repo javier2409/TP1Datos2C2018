{
 "cells": [
  {
   "cell_type": "code",
   "execution_count": 8,
   "metadata": {},
   "outputs": [],
   "source": [
    "import pandas as pd\n",
    "import matplotlib.pyplot as plt\n",
    "import seaborn as sns"
   ]
  },
  {
   "cell_type": "code",
   "execution_count": 3,
   "metadata": {},
   "outputs": [],
   "source": [
    "TROCAFONE = pd.read_csv('events.csv',low_memory=False)"
   ]
  },
  {
   "cell_type": "code",
   "execution_count": 9,
   "metadata": {},
   "outputs": [
    {
     "data": {
      "text/html": [
       "<div>\n",
       "<style scoped>\n",
       "    .dataframe tbody tr th:only-of-type {\n",
       "        vertical-align: middle;\n",
       "    }\n",
       "\n",
       "    .dataframe tbody tr th {\n",
       "        vertical-align: top;\n",
       "    }\n",
       "\n",
       "    .dataframe thead th {\n",
       "        text-align: right;\n",
       "    }\n",
       "</style>\n",
       "<table border=\"1\" class=\"dataframe\">\n",
       "  <thead>\n",
       "    <tr style=\"text-align: right;\">\n",
       "      <th></th>\n",
       "      <th>event</th>\n",
       "    </tr>\n",
       "  </thead>\n",
       "  <tbody>\n",
       "    <tr>\n",
       "      <th>viewed product</th>\n",
       "      <td>528931</td>\n",
       "    </tr>\n",
       "    <tr>\n",
       "      <th>brand listing</th>\n",
       "      <td>98635</td>\n",
       "    </tr>\n",
       "    <tr>\n",
       "      <th>visited site</th>\n",
       "      <td>87378</td>\n",
       "    </tr>\n",
       "    <tr>\n",
       "      <th>ad campaign hit</th>\n",
       "      <td>82827</td>\n",
       "    </tr>\n",
       "    <tr>\n",
       "      <th>generic listing</th>\n",
       "      <td>67534</td>\n",
       "    </tr>\n",
       "  </tbody>\n",
       "</table>\n",
       "</div>"
      ],
      "text/plain": [
       "                  event\n",
       "viewed product   528931\n",
       "brand listing     98635\n",
       "visited site      87378\n",
       "ad campaign hit   82827\n",
       "generic listing   67534"
      ]
     },
     "execution_count": 9,
     "metadata": {},
     "output_type": "execute_result"
    }
   ],
   "source": [
    "#ordeno los eventos por cantidad de apariciones y muestro el primero\n",
    "apariciones = TROCAFONE['event'].value_counts().head(5).to_frame()\n",
    "apariciones\n"
   ]
  },
  {
   "cell_type": "code",
   "execution_count": 14,
   "metadata": {},
   "outputs": [
    {
     "data": {
      "text/plain": [
       "Text(0.5,0,'Ocurrencias')"
      ]
     },
     "execution_count": 14,
     "metadata": {},
     "output_type": "execute_result"
    },
    {
     "data": {
      "image/png": "[encoded data removed]",
      "text/plain": [
       "<Figure size 720x360 with 1 Axes>"
      ]
     },
     "metadata": {},
     "output_type": "display_data"
    }
   ],
   "source": [
    "sns.set()\n",
    "fig,ax=plt.subplots(figsize=(10,5))\n",
    "sns.barplot(ax=ax,data=apariciones,y=apariciones.index,x=apariciones['event'])\n",
    "plt.title('Top 5 eventos con más ocurrencias\\n',size=22)\n",
    "plt.xlabel('Ocurrencias')"
   ]
  },
  {
   "cell_type": "code",
   "execution_count": 5,
   "metadata": {},
   "outputs": [
    {
     "data": {
      "text/html": [
       "<div>\n",
       "<style scoped>\n",
       "    .dataframe tbody tr th:only-of-type {\n",
       "        vertical-align: middle;\n",
       "    }\n",
       "\n",
       "    .dataframe tbody tr th {\n",
       "        vertical-align: top;\n",
       "    }\n",
       "\n",
       "    .dataframe thead th {\n",
       "        text-align: right;\n",
       "    }\n",
       "</style>\n",
       "<table border=\"1\" class=\"dataframe\">\n",
       "  <thead>\n",
       "    <tr style=\"text-align: right;\">\n",
       "      <th></th>\n",
       "      <th>timestamp</th>\n",
       "      <th>event</th>\n",
       "      <th>person</th>\n",
       "      <th>url</th>\n",
       "      <th>sku</th>\n",
       "      <th>model</th>\n",
       "      <th>condition</th>\n",
       "      <th>storage</th>\n",
       "      <th>color</th>\n",
       "      <th>skus</th>\n",
       "      <th>...</th>\n",
       "      <th>search_engine</th>\n",
       "      <th>channel</th>\n",
       "      <th>new_vs_returning</th>\n",
       "      <th>city</th>\n",
       "      <th>region</th>\n",
       "      <th>country</th>\n",
       "      <th>device_type</th>\n",
       "      <th>screen_resolution</th>\n",
       "      <th>operating_system_version</th>\n",
       "      <th>browser_version</th>\n",
       "    </tr>\n",
       "  </thead>\n",
       "  <tbody>\n",
       "    <tr>\n",
       "      <th>220</th>\n",
       "      <td>2018-03-20 17:46:12</td>\n",
       "      <td>conversion</td>\n",
       "      <td>00204059</td>\n",
       "      <td>NaN</td>\n",
       "      <td>3084.0</td>\n",
       "      <td>Motorola Moto X2</td>\n",
       "      <td>Muito Bom</td>\n",
       "      <td>32GB</td>\n",
       "      <td>Couro Vintage</td>\n",
       "      <td>NaN</td>\n",
       "      <td>...</td>\n",
       "      <td>NaN</td>\n",
       "      <td>NaN</td>\n",
       "      <td>NaN</td>\n",
       "      <td>NaN</td>\n",
       "      <td>NaN</td>\n",
       "      <td>NaN</td>\n",
       "      <td>NaN</td>\n",
       "      <td>NaN</td>\n",
       "      <td>NaN</td>\n",
       "      <td>NaN</td>\n",
       "    </tr>\n",
       "    <tr>\n",
       "      <th>2282</th>\n",
       "      <td>2018-04-26 22:28:53</td>\n",
       "      <td>conversion</td>\n",
       "      <td>00c13dee</td>\n",
       "      <td>NaN</td>\n",
       "      <td>6650.0</td>\n",
       "      <td>Samsung Galaxy Core Plus Duos TV</td>\n",
       "      <td>Muito Bom</td>\n",
       "      <td>4GB</td>\n",
       "      <td>Branco</td>\n",
       "      <td>NaN</td>\n",
       "      <td>...</td>\n",
       "      <td>NaN</td>\n",
       "      <td>NaN</td>\n",
       "      <td>NaN</td>\n",
       "      <td>NaN</td>\n",
       "      <td>NaN</td>\n",
       "      <td>NaN</td>\n",
       "      <td>NaN</td>\n",
       "      <td>NaN</td>\n",
       "      <td>NaN</td>\n",
       "      <td>NaN</td>\n",
       "    </tr>\n",
       "    <tr>\n",
       "      <th>2547</th>\n",
       "      <td>2018-06-10 14:37:50</td>\n",
       "      <td>conversion</td>\n",
       "      <td>00fdbb4b</td>\n",
       "      <td>NaN</td>\n",
       "      <td>3348.0</td>\n",
       "      <td>Samsung Galaxy S6 Flat</td>\n",
       "      <td>Muito Bom</td>\n",
       "      <td>32GB</td>\n",
       "      <td>Branco</td>\n",
       "      <td>NaN</td>\n",
       "      <td>...</td>\n",
       "      <td>NaN</td>\n",
       "      <td>NaN</td>\n",
       "      <td>NaN</td>\n",
       "      <td>NaN</td>\n",
       "      <td>NaN</td>\n",
       "      <td>NaN</td>\n",
       "      <td>NaN</td>\n",
       "      <td>NaN</td>\n",
       "      <td>NaN</td>\n",
       "      <td>NaN</td>\n",
       "    </tr>\n",
       "    <tr>\n",
       "      <th>4245</th>\n",
       "      <td>2018-03-16 13:50:25</td>\n",
       "      <td>conversion</td>\n",
       "      <td>0146a9df</td>\n",
       "      <td>NaN</td>\n",
       "      <td>2694.0</td>\n",
       "      <td>iPhone 5s</td>\n",
       "      <td>Bom</td>\n",
       "      <td>32GB</td>\n",
       "      <td>Cinza espacial</td>\n",
       "      <td>NaN</td>\n",
       "      <td>...</td>\n",
       "      <td>NaN</td>\n",
       "      <td>NaN</td>\n",
       "      <td>NaN</td>\n",
       "      <td>NaN</td>\n",
       "      <td>NaN</td>\n",
       "      <td>NaN</td>\n",
       "      <td>NaN</td>\n",
       "      <td>NaN</td>\n",
       "      <td>NaN</td>\n",
       "      <td>NaN</td>\n",
       "    </tr>\n",
       "    <tr>\n",
       "      <th>6985</th>\n",
       "      <td>2018-02-09 22:07:07</td>\n",
       "      <td>conversion</td>\n",
       "      <td>01db2fe6</td>\n",
       "      <td>NaN</td>\n",
       "      <td>6357.0</td>\n",
       "      <td>Samsung Galaxy J5</td>\n",
       "      <td>Bom</td>\n",
       "      <td>16GB</td>\n",
       "      <td>Preto</td>\n",
       "      <td>NaN</td>\n",
       "      <td>...</td>\n",
       "      <td>NaN</td>\n",
       "      <td>NaN</td>\n",
       "      <td>NaN</td>\n",
       "      <td>NaN</td>\n",
       "      <td>NaN</td>\n",
       "      <td>NaN</td>\n",
       "      <td>NaN</td>\n",
       "      <td>NaN</td>\n",
       "      <td>NaN</td>\n",
       "      <td>NaN</td>\n",
       "    </tr>\n",
       "  </tbody>\n",
       "</table>\n",
       "<p>5 rows × 23 columns</p>\n",
       "</div>"
      ],
      "text/plain": [
       "                timestamp       event    person  url     sku  \\\n",
       "220   2018-03-20 17:46:12  conversion  00204059  NaN  3084.0   \n",
       "2282  2018-04-26 22:28:53  conversion  00c13dee  NaN  6650.0   \n",
       "2547  2018-06-10 14:37:50  conversion  00fdbb4b  NaN  3348.0   \n",
       "4245  2018-03-16 13:50:25  conversion  0146a9df  NaN  2694.0   \n",
       "6985  2018-02-09 22:07:07  conversion  01db2fe6  NaN  6357.0   \n",
       "\n",
       "                                 model  condition storage           color  \\\n",
       "220                   Motorola Moto X2  Muito Bom    32GB   Couro Vintage   \n",
       "2282  Samsung Galaxy Core Plus Duos TV  Muito Bom     4GB          Branco   \n",
       "2547            Samsung Galaxy S6 Flat  Muito Bom    32GB          Branco   \n",
       "4245                         iPhone 5s        Bom    32GB  Cinza espacial   \n",
       "6985                 Samsung Galaxy J5        Bom    16GB           Preto   \n",
       "\n",
       "     skus       ...       search_engine channel new_vs_returning city region  \\\n",
       "220   NaN       ...                 NaN     NaN              NaN  NaN    NaN   \n",
       "2282  NaN       ...                 NaN     NaN              NaN  NaN    NaN   \n",
       "2547  NaN       ...                 NaN     NaN              NaN  NaN    NaN   \n",
       "4245  NaN       ...                 NaN     NaN              NaN  NaN    NaN   \n",
       "6985  NaN       ...                 NaN     NaN              NaN  NaN    NaN   \n",
       "\n",
       "     country device_type screen_resolution operating_system_version  \\\n",
       "220      NaN         NaN               NaN                      NaN   \n",
       "2282     NaN         NaN               NaN                      NaN   \n",
       "2547     NaN         NaN               NaN                      NaN   \n",
       "4245     NaN         NaN               NaN                      NaN   \n",
       "6985     NaN         NaN               NaN                      NaN   \n",
       "\n",
       "     browser_version  \n",
       "220              NaN  \n",
       "2282             NaN  \n",
       "2547             NaN  \n",
       "4245             NaN  \n",
       "6985             NaN  \n",
       "\n",
       "[5 rows x 23 columns]"
      ]
     },
     "execution_count": 5,
     "metadata": {},
     "output_type": "execute_result"
    }
   ],
   "source": [
    "#selecciono las filas que tengan como evento 'conversion'\n",
    "ce = TROCAFONE.loc[TROCAFONE['event']=='conversion',:]\n",
    "ce.head()"
   ]
  },
  {
   "cell_type": "code",
   "execution_count": 6,
   "metadata": {},
   "outputs": [
    {
     "name": "stderr",
     "output_type": "stream",
     "text": [
      "/home/javier/.local/lib/python3.6/site-packages/ipykernel_launcher.py:1: SettingWithCopyWarning: \n",
      "A value is trying to be set on a copy of a slice from a DataFrame.\n",
      "Try using .loc[row_indexer,col_indexer] = value instead\n",
      "\n",
      "See the caveats in the documentation: http://pandas.pydata.org/pandas-docs/stable/indexing.html#indexing-view-versus-copy\n",
      "  \"\"\"Entry point for launching an IPython kernel.\n"
     ]
    },
    {
     "data": {
      "text/plain": [
       "<matplotlib.axes._subplots.AxesSubplot at 0x7fa19a0d1828>"
      ]
     },
     "execution_count": 6,
     "metadata": {},
     "output_type": "execute_result"
    }
   ],
   "source": [
    "ce['nombrelindo'] = ce['model']+ ' ' +ce['storage']+' '+ce['condition']+' '+ce['color']\n",
    "primeros = ce['nombrelindo'].value_counts().head(5)\n",
    "primeros_index = primeros.reset_index()\n",
    "\n",
    "primeros_index.set_index('index').plot.barh()"
   ]
  },
  {
   "cell_type": "code",
   "execution_count": 7,
   "metadata": {},
   "outputs": [
    {
     "data": {
      "text/plain": [
       "<matplotlib.axes._subplots.AxesSubplot at 0x7fa196fb9cf8>"
      ]
     },
     "execution_count": 7,
     "metadata": {},
     "output_type": "execute_result"
    },
    {
     "data": {
      "image/png": "[encoded data removed]",
      "text/plain": [
       "<Figure size 432x288 with 1 Axes>"
      ]
     },
     "metadata": {},
     "output_type": "display_data"
    }
   ],
   "source": [
    "#selecciono la columna person, ordeno por cantidad de apariciones y grafico los primeros diez\n",
    "TROCAFONE['person'].value_counts().head(10).plot.bar()"
   ]
  }
 ],
 "metadata": {
  "kernelspec": {
   "display_name": "Python 3",
   "language": "python",
   "name": "python3"
  },
  "language_info": {
   "codemirror_mode": {
    "name": "ipython",
    "version": 3
   },
   "file_extension": ".py",
   "mimetype": "text/x-python",
   "name": "python",
   "nbconvert_exporter": "python",
   "pygments_lexer": "ipython3",
   "version": "3.6.5"
  }
 },
 "nbformat": 4,
 "nbformat_minor": 2
}
