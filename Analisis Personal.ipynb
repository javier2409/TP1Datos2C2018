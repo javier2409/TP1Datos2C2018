{
 "cells": [
  {
   "cell_type": "code",
   "execution_count": 35,
   "metadata": {},
   "outputs": [],
   "source": [
    "import pandas as pd\n",
    "import seaborn as sns"
   ]
  },
  {
   "cell_type": "code",
   "execution_count": 36,
   "metadata": {},
   "outputs": [],
   "source": [
    "import matplotlib.pyplot as plt"
   ]
  },
  {
   "cell_type": "code",
   "execution_count": 37,
   "metadata": {},
   "outputs": [],
   "source": [
    "df=pd.read_csv('events.csv',low_memory=False)"
   ]
  },
  {
   "cell_type": "code",
   "execution_count": 38,
   "metadata": {},
   "outputs": [
    {
     "data": {
      "text/plain": [
       "viewed product       528931\n",
       "brand listing         98635\n",
       "visited site          87378\n",
       "ad campaign hit       82827\n",
       "generic listing       67534\n",
       "searched products     56073\n",
       "search engine hit     50957\n",
       "checkout              33735\n",
       "staticpage             3598\n",
       "conversion             1172\n",
       "lead                    448\n",
       "Name: event, dtype: int64"
      ]
     },
     "execution_count": 38,
     "metadata": {},
     "output_type": "execute_result"
    }
   ],
   "source": [
    "df['event'].value_counts()"
   ]
  },
  {
   "cell_type": "code",
   "execution_count": 39,
   "metadata": {},
   "outputs": [],
   "source": [
    "dfPerEv=df.loc[:,['event','person']]"
   ]
  },
  {
   "cell_type": "code",
   "execution_count": 40,
   "metadata": {},
   "outputs": [
    {
     "name": "stdout",
     "output_type": "stream",
     "text": [
      "La cantidad de veces que aparece una persona no nula es: 1011288\n",
      "La cantidad de veces que aparece un evento no nulo es: 1011288\n",
      "La cantidad de eventos es: 1011288\n",
      "La cantidad de personas individuales es: 27624\n",
      "Cada persona realiza la siguiente cantidad de eventos: \n"
     ]
    },
    {
     "data": {
      "text/plain": [
       "71492f2b    2771\n",
       "6b07be7b    2770\n",
       "285101a1    2140\n",
       "3e34b3cf    1877\n",
       "2d5a84c1    1800\n",
       "5f25cb5d    1797\n",
       "5af7e2bc    1773\n",
       "3b5a5833    1705\n",
       "d7e60792    1352\n",
       "cd6e0b8d    1254\n",
       "Name: person, dtype: int64"
      ]
     },
     "execution_count": 40,
     "metadata": {},
     "output_type": "execute_result"
    }
   ],
   "source": [
    "#Verifico que la cantidad de personas no nulas equivalga a la cantidad de eventos totales 1 a 1:\n",
    "print('La cantidad de veces que aparece una persona no nula es: ' + str(dfPerEv['person'].count()))\n",
    "print('La cantidad de veces que aparece un evento no nulo es: ' + str(dfPerEv['event'].count()))\n",
    "print('La cantidad de eventos es: ' + str(df['event'].size))\n",
    "print('La cantidad de personas individuales es: ' + str(dfPerEv['person'].nunique()))\n",
    "dfPerEv['evRealiz']=1\n",
    "print('Cada persona realiza la siguiente cantidad de eventos: ')\n",
    "dfPerEv['person'].value_counts().head(10)"
   ]
  },
  {
   "cell_type": "code",
   "execution_count": 53,
   "metadata": {},
   "outputs": [
    {
     "name": "stdout",
     "output_type": "stream",
     "text": [
      "Las personas realizan estos eventos: \n"
     ]
    },
    {
     "data": {
      "text/html": [
       "<div>\n",
       "<style scoped>\n",
       "    .dataframe tbody tr th:only-of-type {\n",
       "        vertical-align: middle;\n",
       "    }\n",
       "\n",
       "    .dataframe tbody tr th {\n",
       "        vertical-align: top;\n",
       "    }\n",
       "\n",
       "    .dataframe thead th {\n",
       "        text-align: right;\n",
       "    }\n",
       "</style>\n",
       "<table border=\"1\" class=\"dataframe\">\n",
       "  <thead>\n",
       "    <tr style=\"text-align: right;\">\n",
       "      <th></th>\n",
       "      <th></th>\n",
       "      <th>evRealiz</th>\n",
       "    </tr>\n",
       "    <tr>\n",
       "      <th>person</th>\n",
       "      <th>event</th>\n",
       "      <th></th>\n",
       "    </tr>\n",
       "  </thead>\n",
       "  <tbody>\n",
       "    <tr>\n",
       "      <th rowspan=\"9\" valign=\"top\">71492f2b</th>\n",
       "      <th>ad campaign hit</th>\n",
       "      <td>61.0</td>\n",
       "    </tr>\n",
       "    <tr>\n",
       "      <th>brand listing</th>\n",
       "      <td>1149.0</td>\n",
       "    </tr>\n",
       "    <tr>\n",
       "      <th>checkout</th>\n",
       "      <td>3.0</td>\n",
       "    </tr>\n",
       "    <tr>\n",
       "      <th>generic listing</th>\n",
       "      <td>71.0</td>\n",
       "    </tr>\n",
       "    <tr>\n",
       "      <th>lead</th>\n",
       "      <td>1.0</td>\n",
       "    </tr>\n",
       "    <tr>\n",
       "      <th>searched products</th>\n",
       "      <td>15.0</td>\n",
       "    </tr>\n",
       "    <tr>\n",
       "      <th>staticpage</th>\n",
       "      <td>4.0</td>\n",
       "    </tr>\n",
       "    <tr>\n",
       "      <th>viewed product</th>\n",
       "      <td>1364.0</td>\n",
       "    </tr>\n",
       "    <tr>\n",
       "      <th>visited site</th>\n",
       "      <td>103.0</td>\n",
       "    </tr>\n",
       "    <tr>\n",
       "      <th rowspan=\"10\" valign=\"top\">6b07be7b</th>\n",
       "      <th>ad campaign hit</th>\n",
       "      <td>59.0</td>\n",
       "    </tr>\n",
       "    <tr>\n",
       "      <th>brand listing</th>\n",
       "      <td>780.0</td>\n",
       "    </tr>\n",
       "    <tr>\n",
       "      <th>checkout</th>\n",
       "      <td>13.0</td>\n",
       "    </tr>\n",
       "    <tr>\n",
       "      <th>conversion</th>\n",
       "      <td>6.0</td>\n",
       "    </tr>\n",
       "    <tr>\n",
       "      <th>generic listing</th>\n",
       "      <td>424.0</td>\n",
       "    </tr>\n",
       "    <tr>\n",
       "      <th>search engine hit</th>\n",
       "      <td>6.0</td>\n",
       "    </tr>\n",
       "    <tr>\n",
       "      <th>searched products</th>\n",
       "      <td>87.0</td>\n",
       "    </tr>\n",
       "    <tr>\n",
       "      <th>staticpage</th>\n",
       "      <td>14.0</td>\n",
       "    </tr>\n",
       "    <tr>\n",
       "      <th>viewed product</th>\n",
       "      <td>1118.0</td>\n",
       "    </tr>\n",
       "    <tr>\n",
       "      <th>visited site</th>\n",
       "      <td>263.0</td>\n",
       "    </tr>\n",
       "    <tr>\n",
       "      <th rowspan=\"9\" valign=\"top\">285101a1</th>\n",
       "      <th>ad campaign hit</th>\n",
       "      <td>74.0</td>\n",
       "    </tr>\n",
       "    <tr>\n",
       "      <th>brand listing</th>\n",
       "      <td>657.0</td>\n",
       "    </tr>\n",
       "    <tr>\n",
       "      <th>checkout</th>\n",
       "      <td>7.0</td>\n",
       "    </tr>\n",
       "    <tr>\n",
       "      <th>conversion</th>\n",
       "      <td>1.0</td>\n",
       "    </tr>\n",
       "    <tr>\n",
       "      <th>generic listing</th>\n",
       "      <td>244.0</td>\n",
       "    </tr>\n",
       "    <tr>\n",
       "      <th>search engine hit</th>\n",
       "      <td>12.0</td>\n",
       "    </tr>\n",
       "    <tr>\n",
       "      <th>searched products</th>\n",
       "      <td>7.0</td>\n",
       "    </tr>\n",
       "    <tr>\n",
       "      <th>viewed product</th>\n",
       "      <td>1077.0</td>\n",
       "    </tr>\n",
       "    <tr>\n",
       "      <th>visited site</th>\n",
       "      <td>61.0</td>\n",
       "    </tr>\n",
       "    <tr>\n",
       "      <th rowspan=\"2\" valign=\"top\">3e34b3cf</th>\n",
       "      <th>ad campaign hit</th>\n",
       "      <td>4.0</td>\n",
       "    </tr>\n",
       "    <tr>\n",
       "      <th>brand listing</th>\n",
       "      <td>36.0</td>\n",
       "    </tr>\n",
       "    <tr>\n",
       "      <th>...</th>\n",
       "      <th>...</th>\n",
       "      <td>...</td>\n",
       "    </tr>\n",
       "    <tr>\n",
       "      <th>1601d178</th>\n",
       "      <th>checkout</th>\n",
       "      <td>1.0</td>\n",
       "    </tr>\n",
       "    <tr>\n",
       "      <th>4e67d346</th>\n",
       "      <th>checkout</th>\n",
       "      <td>1.0</td>\n",
       "    </tr>\n",
       "    <tr>\n",
       "      <th>cb3f2831</th>\n",
       "      <th>checkout</th>\n",
       "      <td>1.0</td>\n",
       "    </tr>\n",
       "    <tr>\n",
       "      <th>15d276b0</th>\n",
       "      <th>checkout</th>\n",
       "      <td>1.0</td>\n",
       "    </tr>\n",
       "    <tr>\n",
       "      <th>e33c4ebc</th>\n",
       "      <th>checkout</th>\n",
       "      <td>1.0</td>\n",
       "    </tr>\n",
       "    <tr>\n",
       "      <th>a20ecf2c</th>\n",
       "      <th>checkout</th>\n",
       "      <td>1.0</td>\n",
       "    </tr>\n",
       "    <tr>\n",
       "      <th>15acc378</th>\n",
       "      <th>checkout</th>\n",
       "      <td>1.0</td>\n",
       "    </tr>\n",
       "    <tr>\n",
       "      <th>cb9a1197</th>\n",
       "      <th>checkout</th>\n",
       "      <td>1.0</td>\n",
       "    </tr>\n",
       "    <tr>\n",
       "      <th>cbadb824</th>\n",
       "      <th>checkout</th>\n",
       "      <td>1.0</td>\n",
       "    </tr>\n",
       "    <tr>\n",
       "      <th>157704b2</th>\n",
       "      <th>checkout</th>\n",
       "      <td>1.0</td>\n",
       "    </tr>\n",
       "    <tr>\n",
       "      <th>1566b538</th>\n",
       "      <th>checkout</th>\n",
       "      <td>1.0</td>\n",
       "    </tr>\n",
       "    <tr>\n",
       "      <th>a3a1946b</th>\n",
       "      <th>checkout</th>\n",
       "      <td>1.0</td>\n",
       "    </tr>\n",
       "    <tr>\n",
       "      <th>4dc43d43</th>\n",
       "      <th>checkout</th>\n",
       "      <td>1.0</td>\n",
       "    </tr>\n",
       "    <tr>\n",
       "      <th>4a6b2b55</th>\n",
       "      <th>checkout</th>\n",
       "      <td>1.0</td>\n",
       "    </tr>\n",
       "    <tr>\n",
       "      <th>4be8d5bc</th>\n",
       "      <th>checkout</th>\n",
       "      <td>1.0</td>\n",
       "    </tr>\n",
       "    <tr>\n",
       "      <th>4aac2b8d</th>\n",
       "      <th>checkout</th>\n",
       "      <td>1.0</td>\n",
       "    </tr>\n",
       "    <tr>\n",
       "      <th>4b2a85f2</th>\n",
       "      <th>checkout</th>\n",
       "      <td>1.0</td>\n",
       "    </tr>\n",
       "    <tr>\n",
       "      <th>f27ac48f</th>\n",
       "      <th>checkout</th>\n",
       "      <td>1.0</td>\n",
       "    </tr>\n",
       "    <tr>\n",
       "      <th>a4afb582</th>\n",
       "      <th>checkout</th>\n",
       "      <td>1.0</td>\n",
       "    </tr>\n",
       "    <tr>\n",
       "      <th>4bab674f</th>\n",
       "      <th>checkout</th>\n",
       "      <td>1.0</td>\n",
       "    </tr>\n",
       "    <tr>\n",
       "      <th>ca5a2f18</th>\n",
       "      <th>checkout</th>\n",
       "      <td>1.0</td>\n",
       "    </tr>\n",
       "    <tr>\n",
       "      <th>4ce14878</th>\n",
       "      <th>checkout</th>\n",
       "      <td>1.0</td>\n",
       "    </tr>\n",
       "    <tr>\n",
       "      <th>166e650c</th>\n",
       "      <th>checkout</th>\n",
       "      <td>1.0</td>\n",
       "    </tr>\n",
       "    <tr>\n",
       "      <th>4ce1d74f</th>\n",
       "      <th>checkout</th>\n",
       "      <td>1.0</td>\n",
       "    </tr>\n",
       "    <tr>\n",
       "      <th>a437a6b3</th>\n",
       "      <th>checkout</th>\n",
       "      <td>1.0</td>\n",
       "    </tr>\n",
       "    <tr>\n",
       "      <th>4d0a2de2</th>\n",
       "      <th>checkout</th>\n",
       "      <td>1.0</td>\n",
       "    </tr>\n",
       "    <tr>\n",
       "      <th>4d5c3c8c</th>\n",
       "      <th>checkout</th>\n",
       "      <td>1.0</td>\n",
       "    </tr>\n",
       "    <tr>\n",
       "      <th>caea4dc3</th>\n",
       "      <th>checkout</th>\n",
       "      <td>1.0</td>\n",
       "    </tr>\n",
       "    <tr>\n",
       "      <th>4da04c89</th>\n",
       "      <th>checkout</th>\n",
       "      <td>1.0</td>\n",
       "    </tr>\n",
       "    <tr>\n",
       "      <th>3f2d70d0</th>\n",
       "      <th>checkout</th>\n",
       "      <td>1.0</td>\n",
       "    </tr>\n",
       "  </tbody>\n",
       "</table>\n",
       "<p>155483 rows × 1 columns</p>\n",
       "</div>"
      ],
      "text/plain": [
       "                            evRealiz\n",
       "person   event                      \n",
       "71492f2b ad campaign hit        61.0\n",
       "         brand listing        1149.0\n",
       "         checkout                3.0\n",
       "         generic listing        71.0\n",
       "         lead                    1.0\n",
       "         searched products      15.0\n",
       "         staticpage              4.0\n",
       "         viewed product       1364.0\n",
       "         visited site          103.0\n",
       "6b07be7b ad campaign hit        59.0\n",
       "         brand listing         780.0\n",
       "         checkout               13.0\n",
       "         conversion              6.0\n",
       "         generic listing       424.0\n",
       "         search engine hit       6.0\n",
       "         searched products      87.0\n",
       "         staticpage             14.0\n",
       "         viewed product       1118.0\n",
       "         visited site          263.0\n",
       "285101a1 ad campaign hit        74.0\n",
       "         brand listing         657.0\n",
       "         checkout                7.0\n",
       "         conversion              1.0\n",
       "         generic listing       244.0\n",
       "         search engine hit      12.0\n",
       "         searched products       7.0\n",
       "         viewed product       1077.0\n",
       "         visited site           61.0\n",
       "3e34b3cf ad campaign hit         4.0\n",
       "         brand listing          36.0\n",
       "...                              ...\n",
       "1601d178 checkout                1.0\n",
       "4e67d346 checkout                1.0\n",
       "cb3f2831 checkout                1.0\n",
       "15d276b0 checkout                1.0\n",
       "e33c4ebc checkout                1.0\n",
       "a20ecf2c checkout                1.0\n",
       "15acc378 checkout                1.0\n",
       "cb9a1197 checkout                1.0\n",
       "cbadb824 checkout                1.0\n",
       "157704b2 checkout                1.0\n",
       "1566b538 checkout                1.0\n",
       "a3a1946b checkout                1.0\n",
       "4dc43d43 checkout                1.0\n",
       "4a6b2b55 checkout                1.0\n",
       "4be8d5bc checkout                1.0\n",
       "4aac2b8d checkout                1.0\n",
       "4b2a85f2 checkout                1.0\n",
       "f27ac48f checkout                1.0\n",
       "a4afb582 checkout                1.0\n",
       "4bab674f checkout                1.0\n",
       "ca5a2f18 checkout                1.0\n",
       "4ce14878 checkout                1.0\n",
       "166e650c checkout                1.0\n",
       "4ce1d74f checkout                1.0\n",
       "a437a6b3 checkout                1.0\n",
       "4d0a2de2 checkout                1.0\n",
       "4d5c3c8c checkout                1.0\n",
       "caea4dc3 checkout                1.0\n",
       "4da04c89 checkout                1.0\n",
       "3f2d70d0 checkout                1.0\n",
       "\n",
       "[155483 rows x 1 columns]"
      ]
     },
     "execution_count": 53,
     "metadata": {},
     "output_type": "execute_result"
    }
   ],
   "source": [
    "print('Las personas realizan estos eventos: ')\n",
    "grupPerEv=dfPerEv.groupby(['person','event']).count().unstack()\n",
    "grupPerEv['suma']=grupPerEv.loc[:,:].sum(axis = 1)\n",
    "grupPerEv.sort_values(by='suma',ascending=False,inplace=True)\n",
    "grupPerEv=grupPerEv.stack()\n",
    "grupPerEv=grupPerEv.drop('suma',axis=1)\n",
    "grupPerEv=grupPerEv.dropna()\n",
    "grupPerEvBackup=grupPerEv\n",
    "grupPerEvBackup"
   ]
  },
  {
   "cell_type": "markdown",
   "metadata": {},
   "source": [
    "### Es curioso que la persona que mas eventos realizo no hizo ninguna conversion, mientras que el que le sigue en numero de acciones realizo 6"
   ]
  },
  {
   "cell_type": "code",
   "execution_count": 54,
   "metadata": {},
   "outputs": [
    {
     "name": "stdout",
     "output_type": "stream",
     "text": [
      "Hay esta cantidad de personas que realizan 1 solo evento: \n"
     ]
    },
    {
     "data": {
      "text/plain": [
       "471"
      ]
     },
     "execution_count": 54,
     "metadata": {},
     "output_type": "execute_result"
    }
   ],
   "source": [
    "print('Hay esta cantidad de personas que realizan 1 solo evento: ')\n",
    "grupPerEv=dfPerEv.groupby(['person','event']).count().unstack()\n",
    "grupPerEv['suma']=grupPerEv.loc[:,:].sum(axis = 1)\n",
    "grupPerUnicEv=grupPerEv.loc[grupPerEv['suma'] == 1.0,:]\n",
    "grupPerUnicEv=grupPerUnicEv.reset_index()\n",
    "grupPerUnicEv['person'].nunique()"
   ]
  },
  {
   "cell_type": "markdown",
   "metadata": {},
   "source": [
    "#### Mmm mira con la cara que te mira Connan, aunque 471 personas sean muy pocas comparados con el total de personas (27624), viendolos como individuos 471 personas que realizaron una unica accion es algo que no se ve bien. Una primera hipotesis es que esta gente utiliza algun proxy o algo que permita evitar ser identificado por el motor de google analitycs."
   ]
  },
  {
   "cell_type": "code",
   "execution_count": 55,
   "metadata": {},
   "outputs": [],
   "source": [
    "\n",
    "#EJECUTAR ESTA LINEA UNA SOLA VEZ DESPUES DE HABER EJECUTADO LA ANTERIOR\n",
    "\n",
    "grupPerUnicEv=grupPerUnicEv.stack()\n",
    "grupPerUnicEv=grupPerUnicEv.reset_index()"
   ]
  },
  {
   "cell_type": "code",
   "execution_count": 56,
   "metadata": {},
   "outputs": [
    {
     "name": "stdout",
     "output_type": "stream",
     "text": [
      "Estas son los eventos que son realizados por las personas que realizan una accion: \n"
     ]
    },
    {
     "data": {
      "text/plain": [
       "checkout    471\n",
       "            471\n",
       "Name: event, dtype: int64"
      ]
     },
     "execution_count": 56,
     "metadata": {},
     "output_type": "execute_result"
    }
   ],
   "source": [
    "print('Estas son los eventos que son realizados por las personas que realizan una accion: ')\n",
    "grupPerUnicEv['event'].value_counts()"
   ]
  },
  {
   "cell_type": "markdown",
   "metadata": {},
   "source": [
    "### Entonces el 100% de las personas que realizaron una sola accion en la pagina fue para realizar un checkout (Es decir, empezar el proceso de pago de la compra de uno o varios productos que se encuentren en el carrito). Lo que quiere decir que las personas que realizaron una conversion realizaron al menos 1 accion mas."
   ]
  },
  {
   "cell_type": "markdown",
   "metadata": {},
   "source": [
    "# Representacion grafica de la cantidad de personas en funcion de la cantidad de acciones que realizo cada persona"
   ]
  },
  {
   "cell_type": "code",
   "execution_count": 57,
   "metadata": {},
   "outputs": [
    {
     "data": {
      "image/png": "[encoded data removed]",
      "text/plain": [
       "<Figure size 720x504 with 1 Axes>"
      ]
     },
     "metadata": {},
     "output_type": "display_data"
    }
   ],
   "source": [
    "\n",
    "cant=grupPerEv['suma'].value_counts()\n",
    "\n",
    "fig_size = plt.rcParams[\"figure.figsize\"]\n",
    "fig_size[0]=10\n",
    "fig_size[1]=7\n",
    "plt.rcParams[\"figure.figsize\"] = fig_size\n",
    "\n",
    "plt.plot(cant)\n",
    "plt.grid()\n",
    "plt.title('Cantidad de personas que realizaron cierta cantidad de acciones',size=24)\n",
    "plt.xlabel('Cantidad de eventos',size=21)\n",
    "plt.ylabel('Cantidad de personas',size=21)\n",
    "plt.show()"
   ]
  },
  {
   "cell_type": "code",
   "execution_count": 58,
   "metadata": {},
   "outputs": [
    {
     "data": {
      "image/png": "[encoded data removed]",
      "text/plain": [
       "<Figure size 720x504 with 1 Axes>"
      ]
     },
     "metadata": {},
     "output_type": "display_data"
    }
   ],
   "source": [
    "x = grupPerEv['suma']\n",
    "plt.hist(x,bins=50)\n",
    "plt.grid()\n",
    "plt.title('Cantidad de personas que realizaron cierta cantidad de acciones (Log)\\n',size=18)\n",
    "plt.xlabel('Cantidad de eventos',size=16)\n",
    "plt.ylabel('Cantidad de personas (Log)',size=16)\n",
    "plt.yscale('log')\n",
    "plt.show()"
   ]
  },
  {
   "cell_type": "markdown",
   "metadata": {},
   "source": [
    "# Cantidad de personas que realizan entre 1 y 20 acciones"
   ]
  },
  {
   "cell_type": "code",
   "execution_count": 59,
   "metadata": {},
   "outputs": [
    {
     "data": {
      "text/plain": [
       "<matplotlib.axes._subplots.AxesSubplot at 0x7fd52c409c50>"
      ]
     },
     "execution_count": 59,
     "metadata": {},
     "output_type": "execute_result"
    },
    {
     "data": {
      "image/png": "[encoded data removed]",
      "text/plain": [
       "<Figure size 504x720 with 1 Axes>"
      ]
     },
     "metadata": {},
     "output_type": "display_data"
    }
   ],
   "source": [
    "grupHasta30Ev=grupPerEv.loc[grupPerEv['suma'] <= 20.0]\n",
    "x=grupHasta30Ev['suma'].value_counts()\n",
    "plt2 = x.plot(kind = 'barh', grid=True,figsize = (7,10))\n",
    "plt2.set_title(\"Cantidad de personas que realizaron entre 1 y 20 acciones\\n\",size=18)\n",
    "plt2.set_xlabel(\"Personas\",fontsize = 16)\n",
    "plt2.set_ylabel(\"Cantidad de eventos\",fontsize = 16)\n",
    "plt2"
   ]
  },
  {
   "cell_type": "code",
   "execution_count": 60,
   "metadata": {},
   "outputs": [
    {
     "name": "stdout",
     "output_type": "stream",
     "text": [
      "La de personas que realizan entre 1 y 30 eventos es: 854.9\n",
      "La desviacion estandar entre las personas que realizan 1 y 30 eventos es: 652.3916243936209\n",
      "La suma de la media mas el desvio/2 es: 1181.0958121968104\n",
      "Las 7 cantidades mas populares de acciones realizadas por las personas que entran a la pagina: \n"
     ]
    },
    {
     "data": {
      "text/plain": [
       "4.0     3248\n",
       "5.0     1514\n",
       "6.0     1282\n",
       "8.0     1178\n",
       "7.0     1126\n",
       "10.0     943\n",
       "9.0      909\n",
       "Name: suma, dtype: int64"
      ]
     },
     "execution_count": 60,
     "metadata": {},
     "output_type": "execute_result"
    }
   ],
   "source": [
    "print('La de personas que realizan entre 1 y 30 eventos es: ' + str(x.mean()))\n",
    "print('La desviacion estandar entre las personas que realizan 1 y 30 eventos es: ' + str(x.std()))\n",
    "print('La suma de la media mas el desvio/2 es: ' + str((x.mean()) + ((x.std())/2)))\n",
    "print('Las 7 cantidades mas populares de acciones realizadas por las personas que entran a la pagina: ')\n",
    "grupHasta30Ev['suma'].value_counts().head(7)"
   ]
  },
  {
   "cell_type": "markdown",
   "metadata": {},
   "source": [
    "## Por lo que se puede ver que la mayor parte de la gente que entra realiza entre 4 y 10 acciones en la pagina, ahora se va a buscar encontrar cuales son esas acciones que realizan en ma "
   ]
  },
  {
   "cell_type": "code",
   "execution_count": 61,
   "metadata": {},
   "outputs": [
    {
     "data": {
      "text/html": [
       "<div>\n",
       "<style scoped>\n",
       "    .dataframe tbody tr th:only-of-type {\n",
       "        vertical-align: middle;\n",
       "    }\n",
       "\n",
       "    .dataframe tbody tr th {\n",
       "        vertical-align: top;\n",
       "    }\n",
       "\n",
       "    .dataframe thead tr th {\n",
       "        text-align: left;\n",
       "    }\n",
       "\n",
       "    .dataframe thead tr:last-of-type th {\n",
       "        text-align: right;\n",
       "    }\n",
       "</style>\n",
       "<table border=\"1\" class=\"dataframe\">\n",
       "  <thead>\n",
       "    <tr>\n",
       "      <th></th>\n",
       "      <th colspan=\"11\" halign=\"left\">evRealiz</th>\n",
       "    </tr>\n",
       "    <tr>\n",
       "      <th>event</th>\n",
       "      <th>ad campaign hit</th>\n",
       "      <th>brand listing</th>\n",
       "      <th>checkout</th>\n",
       "      <th>conversion</th>\n",
       "      <th>generic listing</th>\n",
       "      <th>lead</th>\n",
       "      <th>search engine hit</th>\n",
       "      <th>searched products</th>\n",
       "      <th>staticpage</th>\n",
       "      <th>viewed product</th>\n",
       "      <th>visited site</th>\n",
       "    </tr>\n",
       "    <tr>\n",
       "      <th>suma</th>\n",
       "      <th></th>\n",
       "      <th></th>\n",
       "      <th></th>\n",
       "      <th></th>\n",
       "      <th></th>\n",
       "      <th></th>\n",
       "      <th></th>\n",
       "      <th></th>\n",
       "      <th></th>\n",
       "      <th></th>\n",
       "      <th></th>\n",
       "    </tr>\n",
       "  </thead>\n",
       "  <tbody>\n",
       "    <tr>\n",
       "      <th>4.0</th>\n",
       "      <td>2966</td>\n",
       "      <td>17</td>\n",
       "      <td>3248</td>\n",
       "      <td>6</td>\n",
       "      <td>80</td>\n",
       "      <td>0</td>\n",
       "      <td>142</td>\n",
       "      <td>9</td>\n",
       "      <td>3</td>\n",
       "      <td>3234</td>\n",
       "      <td>3233</td>\n",
       "    </tr>\n",
       "    <tr>\n",
       "      <th>5.0</th>\n",
       "      <td>1187</td>\n",
       "      <td>100</td>\n",
       "      <td>1514</td>\n",
       "      <td>8</td>\n",
       "      <td>329</td>\n",
       "      <td>8</td>\n",
       "      <td>986</td>\n",
       "      <td>26</td>\n",
       "      <td>1</td>\n",
       "      <td>1505</td>\n",
       "      <td>1496</td>\n",
       "    </tr>\n",
       "    <tr>\n",
       "      <th>6.0</th>\n",
       "      <td>965</td>\n",
       "      <td>212</td>\n",
       "      <td>1282</td>\n",
       "      <td>6</td>\n",
       "      <td>559</td>\n",
       "      <td>4</td>\n",
       "      <td>736</td>\n",
       "      <td>100</td>\n",
       "      <td>6</td>\n",
       "      <td>1278</td>\n",
       "      <td>1264</td>\n",
       "    </tr>\n",
       "    <tr>\n",
       "      <th>7.0</th>\n",
       "      <td>804</td>\n",
       "      <td>250</td>\n",
       "      <td>1126</td>\n",
       "      <td>5</td>\n",
       "      <td>531</td>\n",
       "      <td>3</td>\n",
       "      <td>650</td>\n",
       "      <td>177</td>\n",
       "      <td>9</td>\n",
       "      <td>1123</td>\n",
       "      <td>1113</td>\n",
       "    </tr>\n",
       "    <tr>\n",
       "      <th>8.0</th>\n",
       "      <td>889</td>\n",
       "      <td>287</td>\n",
       "      <td>1178</td>\n",
       "      <td>9</td>\n",
       "      <td>523</td>\n",
       "      <td>0</td>\n",
       "      <td>732</td>\n",
       "      <td>180</td>\n",
       "      <td>7</td>\n",
       "      <td>1173</td>\n",
       "      <td>1171</td>\n",
       "    </tr>\n",
       "    <tr>\n",
       "      <th>9.0</th>\n",
       "      <td>657</td>\n",
       "      <td>252</td>\n",
       "      <td>909</td>\n",
       "      <td>2</td>\n",
       "      <td>487</td>\n",
       "      <td>1</td>\n",
       "      <td>591</td>\n",
       "      <td>172</td>\n",
       "      <td>8</td>\n",
       "      <td>909</td>\n",
       "      <td>902</td>\n",
       "    </tr>\n",
       "    <tr>\n",
       "      <th>10.0</th>\n",
       "      <td>708</td>\n",
       "      <td>249</td>\n",
       "      <td>943</td>\n",
       "      <td>2</td>\n",
       "      <td>520</td>\n",
       "      <td>1</td>\n",
       "      <td>604</td>\n",
       "      <td>191</td>\n",
       "      <td>18</td>\n",
       "      <td>943</td>\n",
       "      <td>937</td>\n",
       "    </tr>\n",
       "  </tbody>\n",
       "</table>\n",
       "</div>"
      ],
      "text/plain": [
       "             evRealiz                                                         \\\n",
       "event ad campaign hit brand listing checkout conversion generic listing lead   \n",
       "suma                                                                           \n",
       "4.0              2966            17     3248          6              80    0   \n",
       "5.0              1187           100     1514          8             329    8   \n",
       "6.0               965           212     1282          6             559    4   \n",
       "7.0               804           250     1126          5             531    3   \n",
       "8.0               889           287     1178          9             523    0   \n",
       "9.0               657           252      909          2             487    1   \n",
       "10.0              708           249      943          2             520    1   \n",
       "\n",
       "                                                                     \\\n",
       "event search engine hit searched products staticpage viewed product   \n",
       "suma                                                                  \n",
       "4.0                 142                 9          3           3234   \n",
       "5.0                 986                26          1           1505   \n",
       "6.0                 736               100          6           1278   \n",
       "7.0                 650               177          9           1123   \n",
       "8.0                 732               180          7           1173   \n",
       "9.0                 591               172          8            909   \n",
       "10.0                604               191         18            943   \n",
       "\n",
       "                    \n",
       "event visited site  \n",
       "suma                \n",
       "4.0           3233  \n",
       "5.0           1496  \n",
       "6.0           1264  \n",
       "7.0           1113  \n",
       "8.0           1171  \n",
       "9.0            902  \n",
       "10.0           937  "
      ]
     },
     "execution_count": 61,
     "metadata": {},
     "output_type": "execute_result"
    }
   ],
   "source": [
    "grupEntre4y10Ev=grupPerEv.loc[grupPerEv['suma'] <= 10.0]\n",
    "grupEntre4y10Ev=grupEntre4y10Ev.loc[4.0 <= grupEntre4y10Ev['suma']]\n",
    "grupEntre4y10Ev.groupby('suma').count()"
   ]
  },
  {
   "cell_type": "markdown",
   "metadata": {},
   "source": [
    "### Se puede ver comparando esta tabla con el cuadro anterior que por ejemplo que el 100% de las personas que realizaron 4, 5, 6, 7, 8, 9 y 10 acciones realizaron un checkout cada vez pues el numero de checkouts realizados coincide con la cantidad de gente que realiza cada combinacion de suma."
   ]
  },
  {
   "cell_type": "code",
   "execution_count": 62,
   "metadata": {},
   "outputs": [],
   "source": [
    "## DEAL DE ACCIONES REALIZADAS POR USUARIO PROMEDIO Y VER CUALES SON \n",
    "## ESAS ACCIONES QUE REALIZA PARA LUEGO DECIDIR SI \"LO QUE FUNCIONA NO SE TOCA\" O SI SE\n",
    "## PUEDE HACER ALGO PARA RETENER A LA GENTE MAS TIEMPO EN LA PAGINA CAMBIANDO ALGUNA COSA."
   ]
  },
  {
   "cell_type": "markdown",
   "metadata": {},
   "source": [
    "## PRUEBA DE QUE NO HAY PERSONA SIN CHECKOUTS"
   ]
  },
  {
   "cell_type": "code",
   "execution_count": 71,
   "metadata": {},
   "outputs": [
    {
     "data": {
      "text/html": [
       "<div>\n",
       "<style scoped>\n",
       "    .dataframe tbody tr th:only-of-type {\n",
       "        vertical-align: middle;\n",
       "    }\n",
       "\n",
       "    .dataframe tbody tr th {\n",
       "        vertical-align: top;\n",
       "    }\n",
       "\n",
       "    .dataframe thead tr th {\n",
       "        text-align: left;\n",
       "    }\n",
       "\n",
       "    .dataframe thead tr:last-of-type th {\n",
       "        text-align: right;\n",
       "    }\n",
       "</style>\n",
       "<table border=\"1\" class=\"dataframe\">\n",
       "  <thead>\n",
       "    <tr>\n",
       "      <th></th>\n",
       "      <th colspan=\"11\" halign=\"left\">evRealiz</th>\n",
       "    </tr>\n",
       "    <tr>\n",
       "      <th>event</th>\n",
       "      <th>ad campaign hit</th>\n",
       "      <th>brand listing</th>\n",
       "      <th>checkout</th>\n",
       "      <th>generic listing</th>\n",
       "      <th>lead</th>\n",
       "      <th>searched products</th>\n",
       "      <th>staticpage</th>\n",
       "      <th>viewed product</th>\n",
       "      <th>visited site</th>\n",
       "      <th>conversion</th>\n",
       "      <th>search engine hit</th>\n",
       "    </tr>\n",
       "    <tr>\n",
       "      <th>person</th>\n",
       "      <th></th>\n",
       "      <th></th>\n",
       "      <th></th>\n",
       "      <th></th>\n",
       "      <th></th>\n",
       "      <th></th>\n",
       "      <th></th>\n",
       "      <th></th>\n",
       "      <th></th>\n",
       "      <th></th>\n",
       "      <th></th>\n",
       "    </tr>\n",
       "  </thead>\n",
       "  <tbody>\n",
       "  </tbody>\n",
       "</table>\n",
       "</div>"
      ],
      "text/plain": [
       "Empty DataFrame\n",
       "Columns: [(evRealiz, ad campaign hit), (evRealiz, brand listing), (evRealiz, checkout), (evRealiz, generic listing), (evRealiz, lead), (evRealiz, searched products), (evRealiz, staticpage), (evRealiz, viewed product), (evRealiz, visited site), (evRealiz, conversion), (evRealiz, search engine hit)]\n",
       "Index: []"
      ]
     },
     "execution_count": 71,
     "metadata": {},
     "output_type": "execute_result"
    }
   ],
   "source": [
    "#g=dfPerEv.groupby(['person','event']).count()\n",
    "g=grupPerEvBackup.unstack()\n",
    "g.loc[g['evRealiz','checkout'].isnull()]"
   ]
  },
  {
   "cell_type": "code",
   "execution_count": null,
   "metadata": {},
   "outputs": [],
   "source": []
  }
 ],
 "metadata": {
  "kernelspec": {
   "display_name": "Python 3",
   "language": "python",
   "name": "python3"
  },
  "language_info": {
   "codemirror_mode": {
    "name": "ipython",
    "version": 3
   },
   "file_extension": ".py",
   "mimetype": "text/x-python",
   "name": "python",
   "nbconvert_exporter": "python",
   "pygments_lexer": "ipython3",
   "version": "3.6.5"
  }
 },
 "nbformat": 4,
 "nbformat_minor": 2
}
