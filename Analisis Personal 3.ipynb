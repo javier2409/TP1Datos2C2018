{
 "cells": [
  {
   "cell_type": "code",
   "execution_count": 1,
   "metadata": {},
   "outputs": [],
   "source": [
    "import pandas as pd\n",
    "import seaborn as sns\n",
    "import matplotlib.pyplot as plt"
   ]
  },
  {
   "cell_type": "code",
   "execution_count": 3,
   "metadata": {},
   "outputs": [],
   "source": [
    "df=pd.read_csv('events.csv',low_memory=False)"
   ]
  },
  {
   "cell_type": "markdown",
   "metadata": {},
   "source": [
    "## Cantidad de veces que el evento fue realizado por primera vez por una persona"
   ]
  },
  {
   "cell_type": "code",
   "execution_count": 20,
   "metadata": {},
   "outputs": [
    {
     "data": {
      "text/plain": [
       "visited site         11519\n",
       "ad campaign hit       5598\n",
       "search engine hit     4648\n",
       "generic listing       2575\n",
       "viewed product        1866\n",
       "checkout               564\n",
       "brand listing          485\n",
       "conversion             185\n",
       "lead                   110\n",
       "searched products       47\n",
       "staticpage              27\n",
       "Name: event, dtype: int64"
      ]
     },
     "execution_count": 20,
     "metadata": {},
     "output_type": "execute_result"
    }
   ],
   "source": [
    "personEv=df.loc[:,['person','event']]\n",
    "primerEv=personEv.groupby('person').first()\n",
    "#primerEv.loc[primerEv['event']=='conversion']\n",
    "primerEv['event'].value_counts()"
   ]
  },
  {
   "cell_type": "markdown",
   "metadata": {},
   "source": [
    "## Cuantas personas realizaron una compra"
   ]
  },
  {
   "cell_type": "code",
   "execution_count": 38,
   "metadata": {},
   "outputs": [
    {
     "data": {
      "text/plain": [
       "checkout             27624\n",
       "visited site         26899\n",
       "viewed product       26316\n",
       "ad campaign hit      21312\n",
       "search engine hit    17205\n",
       "generic listing      15404\n",
       "brand listing        10821\n",
       "searched products     7420\n",
       "staticpage            1475\n",
       "conversion             716\n",
       "lead                   291\n",
       "Name: event, dtype: int64"
      ]
     },
     "execution_count": 38,
     "metadata": {},
     "output_type": "execute_result"
    }
   ],
   "source": [
    "primerEv['columnaNueva']=1\n",
    "primerEv=personEv.groupby(['person','event']).count()\n",
    "#primerEv.loc[primerEv['event']=='conversion']\n",
    "primerEv=primerEv.reset_index()\n",
    "cantidadConversiones=primerEv.loc[primerEv['event']=='conversion',:]\n",
    "cantidadConversiones['event'].value_counts()"
   ]
  },
  {
   "cell_type": "code",
   "execution_count": null,
   "metadata": {},
   "outputs": [],
   "source": []
  }
 ],
 "metadata": {
  "kernelspec": {
   "display_name": "Python 3",
   "language": "python",
   "name": "python3"
  },
  "language_info": {
   "codemirror_mode": {
    "name": "ipython",
    "version": 3
   },
   "file_extension": ".py",
   "mimetype": "text/x-python",
   "name": "python",
   "nbconvert_exporter": "python",
   "pygments_lexer": "ipython3",
   "version": "3.6.5"
  }
 },
 "nbformat": 4,
 "nbformat_minor": 2
}
