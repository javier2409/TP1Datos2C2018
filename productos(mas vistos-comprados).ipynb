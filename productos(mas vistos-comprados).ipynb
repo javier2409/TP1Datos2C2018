{
 "cells": [
  {
   "cell_type": "code",
   "execution_count": 2,
   "metadata": {},
   "outputs": [],
   "source": [
    "import pandas as pd\n",
    "import numpy as npy"
   ]
  },
  {
   "cell_type": "code",
   "execution_count": 3,
   "metadata": {},
   "outputs": [
    {
     "ename": "FileNotFoundError",
     "evalue": "[WinError 3] El sistema no puede encontrar la ruta especificada: '/home/javier/Escritorio/TP1 Datos/TP1_Datos_2C2018'",
     "output_type": "error",
     "traceback": [
      "\u001b[1;31m---------------------------------------------------------------------------\u001b[0m",
      "\u001b[1;31mFileNotFoundError\u001b[0m                         Traceback (most recent call last)",
      "\u001b[1;32m<ipython-input-3-6286984cd963>\u001b[0m in \u001b[0;36m<module>\u001b[1;34m()\u001b[0m\n\u001b[0;32m      1\u001b[0m \u001b[1;32mimport\u001b[0m \u001b[0mos\u001b[0m\u001b[1;33m\u001b[0m\u001b[0m\n\u001b[1;32m----> 2\u001b[1;33m \u001b[0mos\u001b[0m\u001b[1;33m.\u001b[0m\u001b[0mchdir\u001b[0m\u001b[1;33m(\u001b[0m\u001b[1;34m'/home/javier/Escritorio/TP1 Datos/TP1_Datos_2C2018'\u001b[0m\u001b[1;33m)\u001b[0m\u001b[1;33m\u001b[0m\u001b[0m\n\u001b[0m",
      "\u001b[1;31mFileNotFoundError\u001b[0m: [WinError 3] El sistema no puede encontrar la ruta especificada: '/home/javier/Escritorio/TP1 Datos/TP1_Datos_2C2018'"
     ]
    }
   ],
   "source": [
    "import os\n",
    "os.chdir('/home/javier/Escritorio/TP1 Datos/TP1_Datos_2C2018')"
   ]
  },
  {
   "cell_type": "code",
   "execution_count": 22,
   "metadata": {},
   "outputs": [],
   "source": [
    "df = pd.read_csv('events.csv',low_memory=False)"
   ]
  },
  {
   "cell_type": "code",
   "execution_count": 23,
   "metadata": {},
   "outputs": [
    {
     "name": "stdout",
     "output_type": "stream",
     "text": [
      "<class 'pandas.core.frame.DataFrame'>\n",
      "RangeIndex: 1011288 entries, 0 to 1011287\n",
      "Data columns (total 23 columns):\n",
      "timestamp                   1011288 non-null object\n",
      "event                       1011288 non-null object\n",
      "person                      1011288 non-null object\n",
      "url                         82756 non-null object\n",
      "sku                         563838 non-null object\n",
      "model                       564284 non-null object\n",
      "condition                   563836 non-null object\n",
      "storage                     563836 non-null object\n",
      "color                       563836 non-null object\n",
      "skus                        221699 non-null object\n",
      "search_term                 48967 non-null object\n",
      "staticpage                  3598 non-null object\n",
      "campaign_source             82796 non-null object\n",
      "search_engine               50957 non-null object\n",
      "channel                     87378 non-null object\n",
      "new_vs_returning            87378 non-null object\n",
      "city                        87378 non-null object\n",
      "region                      87378 non-null object\n",
      "country                     87378 non-null object\n",
      "device_type                 87378 non-null object\n",
      "screen_resolution           87378 non-null object\n",
      "operating_system_version    87378 non-null object\n",
      "browser_version             87378 non-null object\n",
      "dtypes: object(23)\n",
      "memory usage: 177.5+ MB\n",
      "None\n"
     ]
    }
   ],
   "source": [
    "print(df.info())"
   ]
  },
  {
   "cell_type": "code",
   "execution_count": 24,
   "metadata": {},
   "outputs": [
    {
     "name": "stdout",
     "output_type": "stream",
     "text": [
      "<class 'pandas.core.frame.DataFrame'>\n",
      "Int64Index: 98635 entries, 12 to 1011165\n",
      "Data columns (total 23 columns):\n",
      "timestamp                   98635 non-null object\n",
      "event                       98635 non-null object\n",
      "person                      98635 non-null object\n",
      "url                         0 non-null object\n",
      "sku                         0 non-null object\n",
      "model                       0 non-null object\n",
      "condition                   0 non-null object\n",
      "storage                     0 non-null object\n",
      "color                       0 non-null object\n",
      "skus                        98324 non-null object\n",
      "search_term                 0 non-null object\n",
      "staticpage                  0 non-null object\n",
      "campaign_source             0 non-null object\n",
      "search_engine               0 non-null object\n",
      "channel                     0 non-null object\n",
      "new_vs_returning            0 non-null object\n",
      "city                        0 non-null object\n",
      "region                      0 non-null object\n",
      "country                     0 non-null object\n",
      "device_type                 0 non-null object\n",
      "screen_resolution           0 non-null object\n",
      "operating_system_version    0 non-null object\n",
      "browser_version             0 non-null object\n",
      "dtypes: object(23)\n",
      "memory usage: 18.1+ MB\n"
     ]
    }
   ],
   "source": [
    "df.loc[df['event']=='brand listing'].info()"
   ]
  },
  {
   "cell_type": "code",
   "execution_count": null,
   "metadata": {},
   "outputs": [],
   "source": []
  },
  {
   "cell_type": "code",
   "execution_count": 25,
   "metadata": {},
   "outputs": [],
   "source": [
    "mdl = df['model']\n",
    "stg = df['storage']\n",
    "clr = df['color']\n",
    "cnd = df['condition']\n",
    "spc = ' '\n",
    "df['nombreproducto'] = mdl+spc+stg+spc+clr+spc+cnd"
   ]
  },
  {
   "cell_type": "code",
   "execution_count": 26,
   "metadata": {
    "scrolled": true
   },
   "outputs": [
    {
     "name": "stdout",
     "output_type": "stream",
     "text": [
      "<class 'pandas.core.frame.DataFrame'>\n",
      "RangeIndex: 1011288 entries, 0 to 1011287\n",
      "Data columns (total 24 columns):\n",
      "timestamp                   1011288 non-null object\n",
      "event                       1011288 non-null object\n",
      "person                      1011288 non-null object\n",
      "url                         82756 non-null object\n",
      "sku                         563838 non-null object\n",
      "model                       564284 non-null object\n",
      "condition                   563836 non-null object\n",
      "storage                     563836 non-null object\n",
      "color                       563836 non-null object\n",
      "skus                        221699 non-null object\n",
      "search_term                 48967 non-null object\n",
      "staticpage                  3598 non-null object\n",
      "campaign_source             82796 non-null object\n",
      "search_engine               50957 non-null object\n",
      "channel                     87378 non-null object\n",
      "new_vs_returning            87378 non-null object\n",
      "city                        87378 non-null object\n",
      "region                      87378 non-null object\n",
      "country                     87378 non-null object\n",
      "device_type                 87378 non-null object\n",
      "screen_resolution           87378 non-null object\n",
      "operating_system_version    87378 non-null object\n",
      "browser_version             87378 non-null object\n",
      "nombreproducto              563836 non-null object\n",
      "dtypes: object(24)\n",
      "memory usage: 185.2+ MB\n"
     ]
    }
   ],
   "source": [
    "df.info()"
   ]
  },
  {
   "cell_type": "code",
   "execution_count": 27,
   "metadata": {},
   "outputs": [
    {
     "data": {
      "text/html": [
       "<div>\n",
       "<style scoped>\n",
       "    .dataframe tbody tr th:only-of-type {\n",
       "        vertical-align: middle;\n",
       "    }\n",
       "\n",
       "    .dataframe tbody tr th {\n",
       "        vertical-align: top;\n",
       "    }\n",
       "\n",
       "    .dataframe thead th {\n",
       "        text-align: right;\n",
       "    }\n",
       "</style>\n",
       "<table border=\"1\" class=\"dataframe\">\n",
       "  <thead>\n",
       "    <tr style=\"text-align: right;\">\n",
       "      <th></th>\n",
       "      <th>timestamp</th>\n",
       "    </tr>\n",
       "  </thead>\n",
       "  <tbody>\n",
       "    <tr>\n",
       "      <th>0</th>\n",
       "      <td>2018-05-31 23:38:05</td>\n",
       "    </tr>\n",
       "    <tr>\n",
       "      <th>1</th>\n",
       "      <td>2018-05-31 23:38:05</td>\n",
       "    </tr>\n",
       "    <tr>\n",
       "      <th>2</th>\n",
       "      <td>2018-05-31 23:38:09</td>\n",
       "    </tr>\n",
       "    <tr>\n",
       "      <th>3</th>\n",
       "      <td>2018-05-31 23:38:40</td>\n",
       "    </tr>\n",
       "    <tr>\n",
       "      <th>4</th>\n",
       "      <td>2018-05-29 13:29:25</td>\n",
       "    </tr>\n",
       "  </tbody>\n",
       "</table>\n",
       "</div>"
      ],
      "text/plain": [
       "             timestamp\n",
       "0  2018-05-31 23:38:05\n",
       "1  2018-05-31 23:38:05\n",
       "2  2018-05-31 23:38:09\n",
       "3  2018-05-31 23:38:40\n",
       "4  2018-05-29 13:29:25"
      ]
     },
     "execution_count": 27,
     "metadata": {},
     "output_type": "execute_result"
    }
   ],
   "source": [
    "df['timestamp'].head().to_frame()"
   ]
  },
  {
   "cell_type": "code",
   "execution_count": 28,
   "metadata": {},
   "outputs": [],
   "source": [
    "df['time'] = pd.to_datetime(df['timestamp'])"
   ]
  },
  {
   "cell_type": "code",
   "execution_count": 29,
   "metadata": {},
   "outputs": [
    {
     "data": {
      "text/html": [
       "<div>\n",
       "<style scoped>\n",
       "    .dataframe tbody tr th:only-of-type {\n",
       "        vertical-align: middle;\n",
       "    }\n",
       "\n",
       "    .dataframe tbody tr th {\n",
       "        vertical-align: top;\n",
       "    }\n",
       "\n",
       "    .dataframe thead th {\n",
       "        text-align: right;\n",
       "    }\n",
       "</style>\n",
       "<table border=\"1\" class=\"dataframe\">\n",
       "  <thead>\n",
       "    <tr style=\"text-align: right;\">\n",
       "      <th></th>\n",
       "      <th>time</th>\n",
       "    </tr>\n",
       "  </thead>\n",
       "  <tbody>\n",
       "    <tr>\n",
       "      <th>0</th>\n",
       "      <td>2018-05-31 23:38:05</td>\n",
       "    </tr>\n",
       "    <tr>\n",
       "      <th>1</th>\n",
       "      <td>2018-05-31 23:38:05</td>\n",
       "    </tr>\n",
       "    <tr>\n",
       "      <th>2</th>\n",
       "      <td>2018-05-31 23:38:09</td>\n",
       "    </tr>\n",
       "    <tr>\n",
       "      <th>3</th>\n",
       "      <td>2018-05-31 23:38:40</td>\n",
       "    </tr>\n",
       "    <tr>\n",
       "      <th>4</th>\n",
       "      <td>2018-05-29 13:29:25</td>\n",
       "    </tr>\n",
       "  </tbody>\n",
       "</table>\n",
       "</div>"
      ],
      "text/plain": [
       "                 time\n",
       "0 2018-05-31 23:38:05\n",
       "1 2018-05-31 23:38:05\n",
       "2 2018-05-31 23:38:09\n",
       "3 2018-05-31 23:38:40\n",
       "4 2018-05-29 13:29:25"
      ]
     },
     "execution_count": 29,
     "metadata": {},
     "output_type": "execute_result"
    }
   ],
   "source": [
    "df['time'].head().to_frame()"
   ]
  },
  {
   "cell_type": "code",
   "execution_count": 30,
   "metadata": {},
   "outputs": [],
   "source": [
    "df['month'] = df['time'].dt.month"
   ]
  },
  {
   "cell_type": "code",
   "execution_count": 31,
   "metadata": {},
   "outputs": [
    {
     "data": {
      "text/plain": [
       "5    474949\n",
       "6    281882\n",
       "4    130008\n",
       "3     77293\n",
       "2     27886\n",
       "1     19270\n",
       "Name: month, dtype: int64"
      ]
     },
     "execution_count": 31,
     "metadata": {},
     "output_type": "execute_result"
    }
   ],
   "source": [
    "df['month'].value_counts()"
   ]
  },
  {
   "cell_type": "code",
   "execution_count": 32,
   "metadata": {},
   "outputs": [],
   "source": [
    "df['year'] = df['time'].dt.year"
   ]
  },
  {
   "cell_type": "code",
   "execution_count": 33,
   "metadata": {},
   "outputs": [],
   "source": [
    "df['hour'] = df['time'].dt.hour"
   ]
  },
  {
   "cell_type": "code",
   "execution_count": 34,
   "metadata": {},
   "outputs": [
    {
     "name": "stdout",
     "output_type": "stream",
     "text": [
      "<class 'pandas.core.frame.DataFrame'>\n",
      "RangeIndex: 1011288 entries, 0 to 1011287\n",
      "Data columns (total 28 columns):\n",
      "timestamp                   1011288 non-null object\n",
      "event                       1011288 non-null object\n",
      "person                      1011288 non-null object\n",
      "url                         82756 non-null object\n",
      "sku                         563838 non-null object\n",
      "model                       564284 non-null object\n",
      "condition                   563836 non-null object\n",
      "storage                     563836 non-null object\n",
      "color                       563836 non-null object\n",
      "skus                        221699 non-null object\n",
      "search_term                 48967 non-null object\n",
      "staticpage                  3598 non-null object\n",
      "campaign_source             82796 non-null object\n",
      "search_engine               50957 non-null object\n",
      "channel                     87378 non-null object\n",
      "new_vs_returning            87378 non-null object\n",
      "city                        87378 non-null object\n",
      "region                      87378 non-null object\n",
      "country                     87378 non-null object\n",
      "device_type                 87378 non-null object\n",
      "screen_resolution           87378 non-null object\n",
      "operating_system_version    87378 non-null object\n",
      "browser_version             87378 non-null object\n",
      "nombreproducto              563836 non-null object\n",
      "time                        1011288 non-null datetime64[ns]\n",
      "month                       1011288 non-null int64\n",
      "year                        1011288 non-null int64\n",
      "hour                        1011288 non-null int64\n",
      "dtypes: datetime64[ns](1), int64(3), object(24)\n",
      "memory usage: 216.0+ MB\n"
     ]
    }
   ],
   "source": [
    "df.info()"
   ]
  },
  {
   "cell_type": "code",
   "execution_count": 35,
   "metadata": {},
   "outputs": [
    {
     "data": {
      "text/plain": [
       "2018    1011288\n",
       "Name: year, dtype: int64"
      ]
     },
     "execution_count": 35,
     "metadata": {},
     "output_type": "execute_result"
    }
   ],
   "source": [
    "df['year'].value_counts()"
   ]
  },
  {
   "cell_type": "code",
   "execution_count": 36,
   "metadata": {},
   "outputs": [],
   "source": [
    "df_conversions = df[df['event']=='conversion']"
   ]
  },
  {
   "cell_type": "code",
   "execution_count": 37,
   "metadata": {},
   "outputs": [
    {
     "data": {
      "text/plain": [
       "Samsung Galaxy J5         88\n",
       "iPhone 5s                 84\n",
       "iPhone 6                  71\n",
       "Samsung Galaxy S6 Flat    39\n",
       "iPhone 6S                 37\n",
       "Name: model, dtype: int64"
      ]
     },
     "execution_count": 37,
     "metadata": {},
     "output_type": "execute_result"
    }
   ],
   "source": [
    "df_conversions['model'].value_counts().head()"
   ]
  },
  {
   "cell_type": "code",
   "execution_count": 38,
   "metadata": {},
   "outputs": [
    {
     "data": {
      "text/plain": [
       "timestamp                   False\n",
       "event                       False\n",
       "person                      False\n",
       "url                          True\n",
       "sku                         False\n",
       "model                       False\n",
       "condition                   False\n",
       "storage                     False\n",
       "color                       False\n",
       "skus                         True\n",
       "search_term                  True\n",
       "staticpage                   True\n",
       "campaign_source              True\n",
       "search_engine                True\n",
       "channel                      True\n",
       "new_vs_returning             True\n",
       "city                         True\n",
       "region                       True\n",
       "country                      True\n",
       "device_type                  True\n",
       "screen_resolution            True\n",
       "operating_system_version     True\n",
       "browser_version              True\n",
       "nombreproducto              False\n",
       "time                        False\n",
       "month                       False\n",
       "year                        False\n",
       "hour                        False\n",
       "dtype: bool"
      ]
     },
     "execution_count": 38,
     "metadata": {},
     "output_type": "execute_result"
    }
   ],
   "source": [
    "df_conversions.isnull().any()"
   ]
  },
  {
   "cell_type": "code",
   "execution_count": 39,
   "metadata": {},
   "outputs": [
    {
     "name": "stdout",
     "output_type": "stream",
     "text": [
      "(1172, 28)\n",
      "timestamp                      0\n",
      "event                          0\n",
      "person                         0\n",
      "url                         1172\n",
      "sku                            0\n",
      "model                          0\n",
      "condition                      0\n",
      "storage                        0\n",
      "color                          0\n",
      "skus                        1172\n",
      "search_term                 1172\n",
      "staticpage                  1172\n",
      "campaign_source             1172\n",
      "search_engine               1172\n",
      "channel                     1172\n",
      "new_vs_returning            1172\n",
      "city                        1172\n",
      "region                      1172\n",
      "country                     1172\n",
      "device_type                 1172\n",
      "screen_resolution           1172\n",
      "operating_system_version    1172\n",
      "browser_version             1172\n",
      "nombreproducto                 0\n",
      "time                           0\n",
      "month                          0\n",
      "year                           0\n",
      "hour                           0\n",
      "dtype: int64\n"
     ]
    }
   ],
   "source": [
    "print(df_conversions.shape)\n",
    "print(df_conversions.isnull().sum())"
   ]
  },
  {
   "cell_type": "code",
   "execution_count": 40,
   "metadata": {
    "scrolled": true
   },
   "outputs": [
    {
     "data": {
      "text/plain": [
       "<matplotlib.axes._subplots.AxesSubplot at 0x29d01ebc7b8>"
      ]
     },
     "execution_count": 40,
     "metadata": {},
     "output_type": "execute_result"
    }
   ],
   "source": [
    "plot = df_conversions['month'].value_counts().head().sort_index().plot.bar()\n",
    "plot.set_xlabel('Mes')\n",
    "plot.set_ylabel('Cant. de ventas')\n",
    "plot"
   ]
  },
  {
   "cell_type": "code",
   "execution_count": 41,
   "metadata": {},
   "outputs": [],
   "source": [
    "df_viewed = df[df['event']=='viewed product']"
   ]
  },
  {
   "cell_type": "markdown",
   "metadata": {},
   "source": [
    "# Productos más vistos"
   ]
  },
  {
   "cell_type": "code",
   "execution_count": 42,
   "metadata": {},
   "outputs": [
    {
     "data": {
      "text/html": [
       "<div>\n",
       "<style scoped>\n",
       "    .dataframe tbody tr th:only-of-type {\n",
       "        vertical-align: middle;\n",
       "    }\n",
       "\n",
       "    .dataframe tbody tr th {\n",
       "        vertical-align: top;\n",
       "    }\n",
       "\n",
       "    .dataframe thead th {\n",
       "        text-align: right;\n",
       "    }\n",
       "</style>\n",
       "<table border=\"1\" class=\"dataframe\">\n",
       "  <thead>\n",
       "    <tr style=\"text-align: right;\">\n",
       "      <th></th>\n",
       "      <th>nombreproducto</th>\n",
       "    </tr>\n",
       "  </thead>\n",
       "  <tbody>\n",
       "    <tr>\n",
       "      <th>iPhone 6 16GB Cinza espacial Bom</th>\n",
       "      <td>4163</td>\n",
       "    </tr>\n",
       "    <tr>\n",
       "      <th>iPhone 6 16GB Prateado Bom</th>\n",
       "      <td>3574</td>\n",
       "    </tr>\n",
       "    <tr>\n",
       "      <th>iPhone 6 16GB Dourado Bom</th>\n",
       "      <td>3566</td>\n",
       "    </tr>\n",
       "    <tr>\n",
       "      <th>Samsung Galaxy S7 32GB Preto Bom</th>\n",
       "      <td>3421</td>\n",
       "    </tr>\n",
       "    <tr>\n",
       "      <th>Samsung Galaxy S8 64GB Preto Bom</th>\n",
       "      <td>2866</td>\n",
       "    </tr>\n",
       "  </tbody>\n",
       "</table>\n",
       "</div>"
      ],
      "text/plain": [
       "                                  nombreproducto\n",
       "iPhone 6 16GB Cinza espacial Bom            4163\n",
       "iPhone 6 16GB Prateado Bom                  3574\n",
       "iPhone 6 16GB Dourado Bom                   3566\n",
       "Samsung Galaxy S7 32GB Preto Bom            3421\n",
       "Samsung Galaxy S8 64GB Preto Bom            2866"
      ]
     },
     "execution_count": 42,
     "metadata": {},
     "output_type": "execute_result"
    }
   ],
   "source": [
    "df_viewed['nombreproducto'].value_counts().head().to_frame()"
   ]
  },
  {
   "cell_type": "markdown",
   "metadata": {},
   "source": [
    "# Productos más comprados"
   ]
  },
  {
   "cell_type": "code",
   "execution_count": 43,
   "metadata": {},
   "outputs": [
    {
     "data": {
      "text/html": [
       "<div>\n",
       "<style scoped>\n",
       "    .dataframe tbody tr th:only-of-type {\n",
       "        vertical-align: middle;\n",
       "    }\n",
       "\n",
       "    .dataframe tbody tr th {\n",
       "        vertical-align: top;\n",
       "    }\n",
       "\n",
       "    .dataframe thead th {\n",
       "        text-align: right;\n",
       "    }\n",
       "</style>\n",
       "<table border=\"1\" class=\"dataframe\">\n",
       "  <thead>\n",
       "    <tr style=\"text-align: right;\">\n",
       "      <th></th>\n",
       "      <th>nombreproducto</th>\n",
       "    </tr>\n",
       "  </thead>\n",
       "  <tbody>\n",
       "    <tr>\n",
       "      <th>Samsung Galaxy J5 16GB Dourado Bom</th>\n",
       "      <td>30</td>\n",
       "    </tr>\n",
       "    <tr>\n",
       "      <th>Samsung Galaxy J5 16GB Dourado Muito Bom</th>\n",
       "      <td>18</td>\n",
       "    </tr>\n",
       "    <tr>\n",
       "      <th>Motorola Moto G3 4G 16GB Preto Bom</th>\n",
       "      <td>17</td>\n",
       "    </tr>\n",
       "    <tr>\n",
       "      <th>iPhone 5s 16GB Cinza espacial Bom</th>\n",
       "      <td>16</td>\n",
       "    </tr>\n",
       "    <tr>\n",
       "      <th>Samsung Galaxy S6 Flat 32GB Dourado Bom</th>\n",
       "      <td>14</td>\n",
       "    </tr>\n",
       "  </tbody>\n",
       "</table>\n",
       "</div>"
      ],
      "text/plain": [
       "                                          nombreproducto\n",
       "Samsung Galaxy J5 16GB Dourado Bom                    30\n",
       "Samsung Galaxy J5 16GB Dourado Muito Bom              18\n",
       "Motorola Moto G3 4G 16GB Preto Bom                    17\n",
       "iPhone 5s 16GB Cinza espacial Bom                     16\n",
       "Samsung Galaxy S6 Flat 32GB Dourado Bom               14"
      ]
     },
     "execution_count": 43,
     "metadata": {},
     "output_type": "execute_result"
    }
   ],
   "source": [
    "df_conversions['nombreproducto'].value_counts().head().to_frame()"
   ]
  },
  {
   "cell_type": "code",
   "execution_count": 44,
   "metadata": {},
   "outputs": [
    {
     "data": {
      "text/html": [
       "<div>\n",
       "<style scoped>\n",
       "    .dataframe tbody tr th:only-of-type {\n",
       "        vertical-align: middle;\n",
       "    }\n",
       "\n",
       "    .dataframe tbody tr th {\n",
       "        vertical-align: top;\n",
       "    }\n",
       "\n",
       "    .dataframe thead th {\n",
       "        text-align: right;\n",
       "    }\n",
       "</style>\n",
       "<table border=\"1\" class=\"dataframe\">\n",
       "  <thead>\n",
       "    <tr style=\"text-align: right;\">\n",
       "      <th></th>\n",
       "      <th>nombreproducto</th>\n",
       "    </tr>\n",
       "  </thead>\n",
       "  <tbody>\n",
       "    <tr>\n",
       "      <th>1</th>\n",
       "      <td>3573</td>\n",
       "    </tr>\n",
       "    <tr>\n",
       "      <th>0</th>\n",
       "      <td>1</td>\n",
       "    </tr>\n",
       "  </tbody>\n",
       "</table>\n",
       "</div>"
      ],
      "text/plain": [
       "   nombreproducto\n",
       "1            3573\n",
       "0               1"
      ]
     },
     "execution_count": 44,
     "metadata": {},
     "output_type": "execute_result"
    }
   ],
   "source": [
    "#verificacion de que cada sku tiene un unico 'model+storage+color+condition'\n",
    "porsku = df.groupby('sku')\n",
    "porsku.agg({'nombreproducto':'nunique'})['nombreproducto'].value_counts().to_frame()"
   ]
  },
  {
   "cell_type": "markdown",
   "metadata": {},
   "source": [
    "# Productos comprados por más personas"
   ]
  },
  {
   "cell_type": "code",
   "execution_count": 45,
   "metadata": {
    "scrolled": false
   },
   "outputs": [
    {
     "data": {
      "text/html": [
       "<div>\n",
       "<style scoped>\n",
       "    .dataframe tbody tr th:only-of-type {\n",
       "        vertical-align: middle;\n",
       "    }\n",
       "\n",
       "    .dataframe tbody tr th {\n",
       "        vertical-align: top;\n",
       "    }\n",
       "\n",
       "    .dataframe thead th {\n",
       "        text-align: right;\n",
       "    }\n",
       "</style>\n",
       "<table border=\"1\" class=\"dataframe\">\n",
       "  <thead>\n",
       "    <tr style=\"text-align: right;\">\n",
       "      <th></th>\n",
       "      <th>Producto</th>\n",
       "      <th>Personas que compraron</th>\n",
       "    </tr>\n",
       "  </thead>\n",
       "  <tbody>\n",
       "    <tr>\n",
       "      <th>1</th>\n",
       "      <td>Samsung Galaxy J5 16GB Dourado Bom</td>\n",
       "      <td>18</td>\n",
       "    </tr>\n",
       "    <tr>\n",
       "      <th>2</th>\n",
       "      <td>Samsung Galaxy J5 16GB Dourado Muito Bom</td>\n",
       "      <td>12</td>\n",
       "    </tr>\n",
       "    <tr>\n",
       "      <th>3</th>\n",
       "      <td>Samsung Galaxy J5 16GB Preto Bom</td>\n",
       "      <td>10</td>\n",
       "    </tr>\n",
       "    <tr>\n",
       "      <th>4</th>\n",
       "      <td>Samsung Galaxy J5 16GB Branco Bom</td>\n",
       "      <td>9</td>\n",
       "    </tr>\n",
       "    <tr>\n",
       "      <th>5</th>\n",
       "      <td>iPhone 5s 16GB Cinza espacial Muito Bom</td>\n",
       "      <td>8</td>\n",
       "    </tr>\n",
       "  </tbody>\n",
       "</table>\n",
       "</div>"
      ],
      "text/plain": [
       "                                   Producto  Personas que compraron\n",
       "1        Samsung Galaxy J5 16GB Dourado Bom                      18\n",
       "2  Samsung Galaxy J5 16GB Dourado Muito Bom                      12\n",
       "3          Samsung Galaxy J5 16GB Preto Bom                      10\n",
       "4         Samsung Galaxy J5 16GB Branco Bom                       9\n",
       "5   iPhone 5s 16GB Cinza espacial Muito Bom                       8"
      ]
     },
     "execution_count": 45,
     "metadata": {},
     "output_type": "execute_result"
    }
   ],
   "source": [
    "ventas_porsku = df_conversions.groupby('nombreproducto')\n",
    "ventas_unicas = ventas_porsku.agg({'person':'nunique'}).sort_values('person',ascending=False).head().reset_index()\n",
    "ventas_unicas.index = ventas_unicas.index + 1\n",
    "ventas_unicas.columns = ['Producto','Personas que compraron']\n",
    "ventas_unicas"
   ]
  },
  {
   "cell_type": "code",
   "execution_count": 46,
   "metadata": {},
   "outputs": [],
   "source": [
    "df_ads = df.loc[df['event']=='ad campaign hit']"
   ]
  },
  {
   "cell_type": "code",
   "execution_count": 47,
   "metadata": {},
   "outputs": [
    {
     "data": {
      "text/plain": [
       "timestamp                   82827\n",
       "event                       82827\n",
       "person                      82827\n",
       "url                         82756\n",
       "sku                             0\n",
       "model                           0\n",
       "condition                       0\n",
       "storage                         0\n",
       "color                           0\n",
       "skus                            0\n",
       "search_term                     0\n",
       "staticpage                      0\n",
       "campaign_source             82796\n",
       "search_engine                   0\n",
       "channel                         0\n",
       "new_vs_returning                0\n",
       "city                            0\n",
       "region                          0\n",
       "country                         0\n",
       "device_type                     0\n",
       "screen_resolution               0\n",
       "operating_system_version        0\n",
       "browser_version                 0\n",
       "nombreproducto                  0\n",
       "time                        82827\n",
       "month                       82827\n",
       "year                        82827\n",
       "hour                        82827\n",
       "dtype: int64"
      ]
     },
     "execution_count": 47,
     "metadata": {},
     "output_type": "execute_result"
    }
   ],
   "source": [
    "df_ads.count()"
   ]
  },
  {
   "cell_type": "markdown",
   "metadata": {},
   "source": [
    "# Celulares más vendidos por mes"
   ]
  },
  {
   "cell_type": "code",
   "execution_count": 52,
   "metadata": {},
   "outputs": [
    {
     "data": {
      "text/html": [
       "<div>\n",
       "<style scoped>\n",
       "    .dataframe tbody tr th:only-of-type {\n",
       "        vertical-align: middle;\n",
       "    }\n",
       "\n",
       "    .dataframe tbody tr th {\n",
       "        vertical-align: top;\n",
       "    }\n",
       "\n",
       "    .dataframe thead th {\n",
       "        text-align: right;\n",
       "    }\n",
       "</style>\n",
       "<table border=\"1\" class=\"dataframe\">\n",
       "  <thead>\n",
       "    <tr style=\"text-align: right;\">\n",
       "      <th></th>\n",
       "      <th>Modelo</th>\n",
       "      <th>Ventas</th>\n",
       "    </tr>\n",
       "    <tr>\n",
       "      <th>Mes</th>\n",
       "      <th></th>\n",
       "      <th></th>\n",
       "    </tr>\n",
       "  </thead>\n",
       "  <tbody>\n",
       "    <tr>\n",
       "      <th>1</th>\n",
       "      <td>Samsung Galaxy S6 Flat 32GB Dourado Bom</td>\n",
       "      <td>7</td>\n",
       "    </tr>\n",
       "    <tr>\n",
       "      <th>2</th>\n",
       "      <td>Samsung Galaxy Note 4 32GB Branco Muito Bom</td>\n",
       "      <td>8</td>\n",
       "    </tr>\n",
       "    <tr>\n",
       "      <th>3</th>\n",
       "      <td>Motorola Moto G3 4G 16GB Preto Bom</td>\n",
       "      <td>13</td>\n",
       "    </tr>\n",
       "    <tr>\n",
       "      <th>4</th>\n",
       "      <td>Samsung Galaxy J5 16GB Dourado Muito Bom</td>\n",
       "      <td>6</td>\n",
       "    </tr>\n",
       "    <tr>\n",
       "      <th>5</th>\n",
       "      <td>Samsung Galaxy J5 16GB Dourado Bom</td>\n",
       "      <td>17</td>\n",
       "    </tr>\n",
       "    <tr>\n",
       "      <th>6</th>\n",
       "      <td>Samsung Galaxy S8 64GB Preto Bom</td>\n",
       "      <td>5</td>\n",
       "    </tr>\n",
       "  </tbody>\n",
       "</table>\n",
       "</div>"
      ],
      "text/plain": [
       "                                          Modelo  Ventas\n",
       "Mes                                                     \n",
       "1        Samsung Galaxy S6 Flat 32GB Dourado Bom       7\n",
       "2    Samsung Galaxy Note 4 32GB Branco Muito Bom       8\n",
       "3             Motorola Moto G3 4G 16GB Preto Bom      13\n",
       "4       Samsung Galaxy J5 16GB Dourado Muito Bom       6\n",
       "5             Samsung Galaxy J5 16GB Dourado Bom      17\n",
       "6               Samsung Galaxy S8 64GB Preto Bom       5"
      ]
     },
     "execution_count": 52,
     "metadata": {},
     "output_type": "execute_result"
    }
   ],
   "source": [
    "def values(x):\n",
    "    return x.value_counts().values[0]\n",
    "def index(x):\n",
    "    return x.value_counts().index[0]\n",
    "\n",
    "g = df_conversions.groupby('month').agg({'nombreproducto': [index,values]})\n",
    "g.columns = ['Modelo','Ventas']\n",
    "g.index.names = ['Mes']\n",
    "g"
   ]
  },
  {
   "cell_type": "code",
   "execution_count": null,
   "metadata": {},
   "outputs": [],
   "source": []
  },
  {
   "cell_type": "code",
   "execution_count": null,
   "metadata": {},
   "outputs": [],
   "source": []
  },
  {
   "cell_type": "code",
   "execution_count": null,
   "metadata": {},
   "outputs": [],
   "source": []
  }
 ],
 "metadata": {
  "kernelspec": {
   "display_name": "Python 3",
   "language": "python",
   "name": "python3"
  },
  "language_info": {
   "codemirror_mode": {
    "name": "ipython",
    "version": 3
   },
   "file_extension": ".py",
   "mimetype": "text/x-python",
   "name": "python",
   "nbconvert_exporter": "python",
   "pygments_lexer": "ipython3",
   "version": "3.6.5"
  }
 },
 "nbformat": 4,
 "nbformat_minor": 2
}
